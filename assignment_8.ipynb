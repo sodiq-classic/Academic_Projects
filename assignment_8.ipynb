{
 "cells": [
  {
   "cell_type": "markdown",
   "id": "ea1bc19f-6d40-4af2-9431-03c791871386",
   "metadata": {},
   "source": [
    "# Data Science and ML  \n",
    "**Sodiq Akinbolaji**  \n",
    "**February 26, 2024**  \n",
    "* _Assignment 8_\n",
    "* _Python Essentials with Data Analysis_\n",
    "\n",
    "This code will describe an equation using the lambda function,  users will be able to input three numbers where only float(decimal) numbers will be allowed.   \n",
    "The code will use the numbers provided to solve the equation and then show the result.\n",
    "\n",
    "Check out [Alex the Analyst](https://www.youtube.com/watch?v=opJgMj1IUrc&list=PLUaB-1hjhk8H48Pj32z4GZgGWyylqv85f&index=10) video on YouTube. You will love it.  \n",
    "![A pretty tiger](https://upload.wikimedia.org/wikipedia/commons/5/56/Tiger.50.jpg)"
   ]
  },
  {
   "cell_type": "code",
   "execution_count": 1,
   "id": "06a31b16-227d-46cd-b0fa-90c24cf82033",
   "metadata": {},
   "outputs": [],
   "source": [
    "# import math Library, for squareroot function\n",
    "import math\n",
    "\n",
    "# describe a lambda function and pass an equation to it\n",
    "f = lambda x,y,z: math.sqrt(x**2 + y**2 + z**2)"
   ]
  },
  {
   "cell_type": "code",
   "execution_count": 3,
   "id": "c581ac69-114e-446d-9640-240ccbcbd172",
   "metadata": {},
   "outputs": [
    {
     "name": "stdin",
     "output_type": "stream",
     "text": [
      "Give a number for x 5.6\n",
      "Give a number for y 5.7\n",
      "Give a number for z 8\n"
     ]
    },
    {
     "name": "stdout",
     "output_type": "stream",
     "text": [
      "f(x,y,z) = 11.307077429645558\n"
     ]
    }
   ],
   "source": [
    "# create a loop that prompt users to input values\n",
    "while True: \n",
    "    try:\n",
    "        x = float(input(\"Give a number for x\"))\n",
    "        y = float(input(\"Give a number for y\"))\n",
    "        z = float(input(\"Give a number for z\"))\n",
    "        #float(x)\n",
    "        #float(y)\n",
    "        #float(z)\n",
    "        break\n",
    "    except:\n",
    "        print(\"Invalid input, input numbers only\")\n",
    "solution = f(x,y,z)\n",
    "print(f\"f(x,y,z) = {solution}\")"
   ]
  },
  {
   "cell_type": "code",
   "execution_count": null,
   "id": "a390d53f-62b3-4a3c-a621-ce768c23b22c",
   "metadata": {},
   "outputs": [],
   "source": []
  }
 ],
 "metadata": {
  "kernelspec": {
   "display_name": "Python 3 (ipykernel)",
   "language": "python",
   "name": "python3"
  },
  "language_info": {
   "codemirror_mode": {
    "name": "ipython",
    "version": 3
   },
   "file_extension": ".py",
   "mimetype": "text/x-python",
   "name": "python",
   "nbconvert_exporter": "python",
   "pygments_lexer": "ipython3",
   "version": "3.11.5"
  }
 },
 "nbformat": 4,
 "nbformat_minor": 5
}
