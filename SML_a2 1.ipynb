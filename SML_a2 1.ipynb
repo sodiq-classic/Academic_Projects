{
 "cells": [
  {
   "cell_type": "code",
   "execution_count": 316,
   "id": "c0ba63b6-e0dd-4208-b64e-7b9ab608140e",
   "metadata": {},
   "outputs": [],
   "source": [
    "#importing the necessary libraries\n",
    "import pandas as pd\n",
    "import numpy as np\n",
    "import random\n",
    "import matplotlib.pyplot as plt\n",
    "import turicreate as tc"
   ]
  },
  {
   "cell_type": "markdown",
   "id": "b691cb40-99ef-47b1-9d3e-51f80f620292",
   "metadata": {},
   "source": [
    "f(x) = (a + 1)x^3 + (b+1)x^2 + (c+1)x + d\n",
    "\n",
    "the average student number for the coefficient is:\n",
    "a = 8, b = 7, c = 1, d = 6\n",
    " \n",
    "f(x) = (8 + 1)x^3 + (7+1)x^2 + (1+1)x + 6\n",
    "\n",
    "f(x) = 9x^3 + 8x^2 + 2x + 6"
   ]
  },
  {
   "cell_type": "code",
   "execution_count": 317,
   "id": "dad2718e-f887-444c-bbc3-7354d526e673",
   "metadata": {},
   "outputs": [],
   "source": [
    "#generating random data\n",
    "coeffs = [6,2,8,9]\n",
    "def polynomial_data_generator(coefs, x):\n",
    "    n = len(coefs)\n",
    "    return sum([coefs[i]*x**i for i in range(n)])\n"
   ]
  },
  {
   "cell_type": "code",
   "execution_count": 318,
   "id": "7ad6856d-1229-47b1-90c2-5af1c811cac4",
   "metadata": {},
   "outputs": [],
   "source": [
    "#creating a function to display the polynomial\n",
    "def draw_polynomial(coefs):\n",
    "    n = len(coefs)\n",
    "    x = np.linspace(-10, 10)\n",
    "    plt.plot(x, sum([coefs[i]*x**i for i in range(n)]), linestyle='-', color='black')\n"
   ]
  },
  {
   "cell_type": "code",
   "execution_count": 319,
   "id": "e23e6ace-99d0-4836-aad0-e1bc64813df1",
   "metadata": {},
   "outputs": [],
   "source": [
    "#creating x and y\n",
    "x  = [random.uniform(-10,10) for i in range(500)]\n",
    "y = [polynomial_data_generator(coeffs,i)+random.gauss(0,500) for i in x]"
   ]
  },
  {
   "cell_type": "code",
   "execution_count": 320,
   "id": "518a7c09-16e1-4f54-8966-44c49642540d",
   "metadata": {},
   "outputs": [
    {
     "data": {
      "image/png": "[encoded data removed]",
      "text/plain": [
       "<Figure size 432x288 with 1 Axes>"
      ]
     },
     "metadata": {
      "needs_background": "light"
     },
     "output_type": "display_data"
    }
   ],
   "source": [
    "#plotting x and y\n",
    "plt.scatter(x,y)\n",
    "plt.show()"
   ]
  },
  {
   "cell_type": "code",
   "execution_count": 321,
   "id": "747ecf7b-165a-4aca-b82f-9c3dd4ba9125",
   "metadata": {},
   "outputs": [
    {
     "data": {
      "text/html": [
       "<div style=\"max-height:1000px;max-width:1500px;overflow:auto;\"><table frame=\"box\" rules=\"cols\">\n",
       "    <tr>\n",
       "        <th style=\"padding-left: 1em; padding-right: 1em; text-align: center\">X</th>\n",
       "        <th style=\"padding-left: 1em; padding-right: 1em; text-align: center\">Y</th>\n",
       "    </tr>\n",
       "    <tr>\n",
       "        <td style=\"padding-left: 1em; padding-right: 1em; text-align: center; vertical-align: top\">-4.584859189734893</td>\n",
       "        <td style=\"padding-left: 1em; padding-right: 1em; text-align: center; vertical-align: top\">-1212.66411903042</td>\n",
       "    </tr>\n",
       "    <tr>\n",
       "        <td style=\"padding-left: 1em; padding-right: 1em; text-align: center; vertical-align: top\">-3.0901780443779163</td>\n",
       "        <td style=\"padding-left: 1em; padding-right: 1em; text-align: center; vertical-align: top\">-1250.177324011609</td>\n",
       "    </tr>\n",
       "    <tr>\n",
       "        <td style=\"padding-left: 1em; padding-right: 1em; text-align: center; vertical-align: top\">8.426650996722643</td>\n",
       "        <td style=\"padding-left: 1em; padding-right: 1em; text-align: center; vertical-align: top\">5869.886429304624</td>\n",
       "    </tr>\n",
       "    <tr>\n",
       "        <td style=\"padding-left: 1em; padding-right: 1em; text-align: center; vertical-align: top\">4.335880477122036</td>\n",
       "        <td style=\"padding-left: 1em; padding-right: 1em; text-align: center; vertical-align: top\">669.5453781129693</td>\n",
       "    </tr>\n",
       "    <tr>\n",
       "        <td style=\"padding-left: 1em; padding-right: 1em; text-align: center; vertical-align: top\">-7.018865635568499</td>\n",
       "        <td style=\"padding-left: 1em; padding-right: 1em; text-align: center; vertical-align: top\">-2638.42443678629</td>\n",
       "    </tr>\n",
       "    <tr>\n",
       "        <td style=\"padding-left: 1em; padding-right: 1em; text-align: center; vertical-align: top\">5.766133723324165</td>\n",
       "        <td style=\"padding-left: 1em; padding-right: 1em; text-align: center; vertical-align: top\">2350.9582923902735</td>\n",
       "    </tr>\n",
       "    <tr>\n",
       "        <td style=\"padding-left: 1em; padding-right: 1em; text-align: center; vertical-align: top\">-6.127313858025989</td>\n",
       "        <td style=\"padding-left: 1em; padding-right: 1em; text-align: center; vertical-align: top\">-1437.6427025988673</td>\n",
       "    </tr>\n",
       "    <tr>\n",
       "        <td style=\"padding-left: 1em; padding-right: 1em; text-align: center; vertical-align: top\">-5.8890708045867495</td>\n",
       "        <td style=\"padding-left: 1em; padding-right: 1em; text-align: center; vertical-align: top\">-1068.465116475831</td>\n",
       "    </tr>\n",
       "    <tr>\n",
       "        <td style=\"padding-left: 1em; padding-right: 1em; text-align: center; vertical-align: top\">2.2749827211466602</td>\n",
       "        <td style=\"padding-left: 1em; padding-right: 1em; text-align: center; vertical-align: top\">13.679224058673043</td>\n",
       "    </tr>\n",
       "    <tr>\n",
       "        <td style=\"padding-left: 1em; padding-right: 1em; text-align: center; vertical-align: top\">-5.827976489839672</td>\n",
       "        <td style=\"padding-left: 1em; padding-right: 1em; text-align: center; vertical-align: top\">-1123.0559390905314</td>\n",
       "    </tr>\n",
       "</table>\n",
       "[500 rows x 2 columns]<br/>Note: Only the head of the SFrame is printed.<br/>You can use print_rows(num_rows=m, num_columns=n) to print more rows and columns.\n",
       "</div>"
      ],
      "text/plain": [
       "Columns:\n",
       "\tX\tfloat\n",
       "\tY\tfloat\n",
       "\n",
       "Rows: 500\n",
       "\n",
       "Data:\n",
       "+---------------------+---------------------+\n",
       "|          X          |          Y          |\n",
       "+---------------------+---------------------+\n",
       "|  -4.584859189734893 |  -1212.66411903042  |\n",
       "| -3.0901780443779163 |  -1250.177324011609 |\n",
       "|  8.426650996722643  |  5869.886429304624  |\n",
       "|  4.335880477122036  |  669.5453781129693  |\n",
       "|  -7.018865635568499 |  -2638.42443678629  |\n",
       "|  5.766133723324165  |  2350.9582923902735 |\n",
       "|  -6.127313858025989 | -1437.6427025988673 |\n",
       "| -5.8890708045867495 |  -1068.465116475831 |\n",
       "|  2.2749827211466602 |  13.679224058673043 |\n",
       "|  -5.827976489839672 | -1123.0559390905314 |\n",
       "+---------------------+---------------------+\n",
       "[500 rows x 2 columns]\n",
       "Note: Only the head of the SFrame is printed.\n",
       "You can use print_rows(num_rows=m, num_columns=n) to print more rows and columns."
      ]
     },
     "execution_count": 321,
     "metadata": {},
     "output_type": "execute_result"
    }
   ],
   "source": [
    "#creating our dataset\n",
    "data = tc.SFrame({'X':x, 'Y':y})\n",
    "data"
   ]
  },
  {
   "cell_type": "code",
   "execution_count": 322,
   "id": "cde3e553-fb3d-42a5-ab61-ea821cf89225",
   "metadata": {},
   "outputs": [
    {
     "data": {
      "text/html": [
       "<div style=\"max-height:1000px;max-width:1500px;overflow:auto;\"><table frame=\"box\" rules=\"cols\">\n",
       "    <tr>\n",
       "        <th style=\"padding-left: 1em; padding-right: 1em; text-align: center\">X</th>\n",
       "        <th style=\"padding-left: 1em; padding-right: 1em; text-align: center\">Y</th>\n",
       "        <th style=\"padding-left: 1em; padding-right: 1em; text-align: center\">X^2</th>\n",
       "        <th style=\"padding-left: 1em; padding-right: 1em; text-align: center\">X^3</th>\n",
       "        <th style=\"padding-left: 1em; padding-right: 1em; text-align: center\">X^4</th>\n",
       "    </tr>\n",
       "    <tr>\n",
       "        <td style=\"padding-left: 1em; padding-right: 1em; text-align: center; vertical-align: top\">-4.584859189734893</td>\n",
       "        <td style=\"padding-left: 1em; padding-right: 1em; text-align: center; vertical-align: top\">-1212.66411903042</td>\n",
       "        <td style=\"padding-left: 1em; padding-right: 1em; text-align: center; vertical-align: top\">21.020933789696503</td>\n",
       "        <td style=\"padding-left: 1em; padding-right: 1em; text-align: center; vertical-align: top\">-96.37802146249875</td>\n",
       "        <td style=\"padding-left: 1em; padding-right: 1em; text-align: center; vertical-align: top\">441.8796573908042</td>\n",
       "    </tr>\n",
       "    <tr>\n",
       "        <td style=\"padding-left: 1em; padding-right: 1em; text-align: center; vertical-align: top\">-3.0901780443779163</td>\n",
       "        <td style=\"padding-left: 1em; padding-right: 1em; text-align: center; vertical-align: top\">-1250.177324011609</td>\n",
       "        <td style=\"padding-left: 1em; padding-right: 1em; text-align: center; vertical-align: top\">9.549200345955324</td>\n",
       "        <td style=\"padding-left: 1em; padding-right: 1em; text-align: center; vertical-align: top\">-29.508729250437142</td>\n",
       "        <td style=\"padding-left: 1em; padding-right: 1em; text-align: center; vertical-align: top\">91.18722724719326</td>\n",
       "    </tr>\n",
       "    <tr>\n",
       "        <td style=\"padding-left: 1em; padding-right: 1em; text-align: center; vertical-align: top\">8.426650996722643</td>\n",
       "        <td style=\"padding-left: 1em; padding-right: 1em; text-align: center; vertical-align: top\">5869.886429304624</td>\n",
       "        <td style=\"padding-left: 1em; padding-right: 1em; text-align: center; vertical-align: top\">71.0084470205667</td>\n",
       "        <td style=\"padding-left: 1em; padding-right: 1em; text-align: center; vertical-align: top\">598.3634008615854</td>\n",
       "        <td style=\"padding-left: 1em; padding-right: 1em; text-align: center; vertical-align: top\">5042.199548272629</td>\n",
       "    </tr>\n",
       "    <tr>\n",
       "        <td style=\"padding-left: 1em; padding-right: 1em; text-align: center; vertical-align: top\">4.335880477122036</td>\n",
       "        <td style=\"padding-left: 1em; padding-right: 1em; text-align: center; vertical-align: top\">669.5453781129693</td>\n",
       "        <td style=\"padding-left: 1em; padding-right: 1em; text-align: center; vertical-align: top\">18.799859511888013</td>\n",
       "        <td style=\"padding-left: 1em; padding-right: 1em; text-align: center; vertical-align: top\">81.51394383023224</td>\n",
       "        <td style=\"padding-left: 1em; padding-right: 1em; text-align: center; vertical-align: top\">353.43471766672616</td>\n",
       "    </tr>\n",
       "    <tr>\n",
       "        <td style=\"padding-left: 1em; padding-right: 1em; text-align: center; vertical-align: top\">-7.018865635568499</td>\n",
       "        <td style=\"padding-left: 1em; padding-right: 1em; text-align: center; vertical-align: top\">-2638.42443678629</td>\n",
       "        <td style=\"padding-left: 1em; padding-right: 1em; text-align: center; vertical-align: top\">49.26447481016439</td>\n",
       "        <td style=\"padding-left: 1em; padding-right: 1em; text-align: center; vertical-align: top\">-345.7807292993928</td>\n",
       "        <td style=\"padding-left: 1em; padding-right: 1em; text-align: center; vertical-align: top\">2426.988478321322</td>\n",
       "    </tr>\n",
       "    <tr>\n",
       "        <td style=\"padding-left: 1em; padding-right: 1em; text-align: center; vertical-align: top\">5.766133723324165</td>\n",
       "        <td style=\"padding-left: 1em; padding-right: 1em; text-align: center; vertical-align: top\">2350.9582923902735</td>\n",
       "        <td style=\"padding-left: 1em; padding-right: 1em; text-align: center; vertical-align: top\">33.2482981152562</td>\n",
       "        <td style=\"padding-left: 1em; padding-right: 1em; text-align: center; vertical-align: top\">191.71413300551404</td>\n",
       "        <td style=\"padding-left: 1em; padding-right: 1em; text-align: center; vertical-align: top\">1105.4493275609489</td>\n",
       "    </tr>\n",
       "    <tr>\n",
       "        <td style=\"padding-left: 1em; padding-right: 1em; text-align: center; vertical-align: top\">-6.127313858025989</td>\n",
       "        <td style=\"padding-left: 1em; padding-right: 1em; text-align: center; vertical-align: top\">-1437.6427025988673</td>\n",
       "        <td style=\"padding-left: 1em; padding-right: 1em; text-align: center; vertical-align: top\">37.54397511475733</td>\n",
       "        <td style=\"padding-left: 1em; padding-right: 1em; text-align: center; vertical-align: top\">-230.04371900603545</td>\n",
       "        <td style=\"padding-left: 1em; padding-right: 1em; text-align: center; vertical-align: top\">1409.5500674175175</td>\n",
       "    </tr>\n",
       "    <tr>\n",
       "        <td style=\"padding-left: 1em; padding-right: 1em; text-align: center; vertical-align: top\">-5.8890708045867495</td>\n",
       "        <td style=\"padding-left: 1em; padding-right: 1em; text-align: center; vertical-align: top\">-1068.465116475831</td>\n",
       "        <td style=\"padding-left: 1em; padding-right: 1em; text-align: center; vertical-align: top\">34.68115494143603</td>\n",
       "        <td style=\"padding-left: 1em; padding-right: 1em; text-align: center; vertical-align: top\">-204.23977703496038</td>\n",
       "        <td style=\"padding-left: 1em; padding-right: 1em; text-align: center; vertical-align: top\">1202.7825080718924</td>\n",
       "    </tr>\n",
       "    <tr>\n",
       "        <td style=\"padding-left: 1em; padding-right: 1em; text-align: center; vertical-align: top\">2.2749827211466602</td>\n",
       "        <td style=\"padding-left: 1em; padding-right: 1em; text-align: center; vertical-align: top\">13.679224058673043</td>\n",
       "        <td style=\"padding-left: 1em; padding-right: 1em; text-align: center; vertical-align: top\">5.175546381515863</td>\n",
       "        <td style=\"padding-left: 1em; padding-right: 1em; text-align: center; vertical-align: top\">11.774278590441709</td>\n",
       "        <td style=\"padding-left: 1em; padding-right: 1em; text-align: center; vertical-align: top\">26.78628034722194</td>\n",
       "    </tr>\n",
       "    <tr>\n",
       "        <td style=\"padding-left: 1em; padding-right: 1em; text-align: center; vertical-align: top\">-5.827976489839672</td>\n",
       "        <td style=\"padding-left: 1em; padding-right: 1em; text-align: center; vertical-align: top\">-1123.0559390905314</td>\n",
       "        <td style=\"padding-left: 1em; padding-right: 1em; text-align: center; vertical-align: top\">33.96530996612395</td>\n",
       "        <td style=\"padding-left: 1em; padding-right: 1em; text-align: center; vertical-align: top\">-197.9490279526875</td>\n",
       "        <td style=\"padding-left: 1em; padding-right: 1em; text-align: center; vertical-align: top\">1153.6422810948789</td>\n",
       "    </tr>\n",
       "</table>\n",
       "<table frame=\"box\" rules=\"cols\">\n",
       "    <tr>\n",
       "        <th style=\"padding-left: 1em; padding-right: 1em; text-align: center\">X^5</th>\n",
       "        <th style=\"padding-left: 1em; padding-right: 1em; text-align: center\">X^6</th>\n",
       "        <th style=\"padding-left: 1em; padding-right: 1em; text-align: center\">X^7</th>\n",
       "        <th style=\"padding-left: 1em; padding-right: 1em; text-align: center\">X^8</th>\n",
       "        <th style=\"padding-left: 1em; padding-right: 1em; text-align: center\">X^9</th>\n",
       "    </tr>\n",
       "    <tr>\n",
       "        <td style=\"padding-left: 1em; padding-right: 1em; text-align: center; vertical-align: top\">-2025.9560079451348</td>\n",
       "        <td style=\"padding-left: 1em; padding-right: 1em; text-align: center; vertical-align: top\">9288.72302102587</td>\n",
       "        <td style=\"padding-left: 1em; padding-right: 1em; text-align: center; vertical-align: top\">-42587.48710385252</td>\n",
       "        <td style=\"padding-left: 1em; padding-right: 1em; text-align: center; vertical-align: top\">195257.6316158145</td>\n",
       "        <td style=\"padding-left: 1em; padding-right: 1em; text-align: center; vertical-align: top\">-895228.7466796375</td>\n",
       "    </tr>\n",
       "    <tr>\n",
       "        <td style=\"padding-left: 1em; padding-right: 1em; text-align: center; vertical-align: top\">-281.7847675669763</td>\n",
       "        <td style=\"padding-left: 1em; padding-right: 1em; text-align: center; vertical-align: top\">870.7651019756047</td>\n",
       "        <td style=\"padding-left: 1em; padding-right: 1em; text-align: center; vertical-align: top\">-2690.819199935511</td>\n",
       "        <td style=\"padding-left: 1em; padding-right: 1em; text-align: center; vertical-align: top\">8315.110413031267</td>\n",
       "        <td style=\"padding-left: 1em; padding-right: 1em; text-align: center; vertical-align: top\">-25695.171634927407</td>\n",
       "    </tr>\n",
       "    <tr>\n",
       "        <td style=\"padding-left: 1em; padding-right: 1em; text-align: center; vertical-align: top\">42488.855849126005</td>\n",
       "        <td style=\"padding-left: 1em; padding-right: 1em; text-align: center; vertical-align: top\">358038.75949064235</td>\n",
       "        <td style=\"padding-left: 1em; padding-right: 1em; text-align: center; vertical-align: top\">3017067.6695271595</td>\n",
       "        <td style=\"padding-left: 1em; padding-right: 1em; text-align: center; vertical-align: top\">25423776.2846007</td>\n",
       "        <td style=\"padding-left: 1em; padding-right: 1em; text-align: center; vertical-align: top\">214237289.76908398</td>\n",
       "    </tr>\n",
       "    <tr>\n",
       "        <td style=\"padding-left: 1em; padding-right: 1em; text-align: center; vertical-align: top\">1532.4506922682965</td>\n",
       "        <td style=\"padding-left: 1em; padding-right: 1em; text-align: center; vertical-align: top\">6644.523038758255</td>\n",
       "        <td style=\"padding-left: 1em; padding-right: 1em; text-align: center; vertical-align: top\">28809.8577235395</td>\n",
       "        <td style=\"padding-left: 1em; padding-right: 1em; text-align: center; vertical-align: top\">124916.09965215842</td>\n",
       "        <td style=\"padding-left: 1em; padding-right: 1em; text-align: center; vertical-align: top\">541621.2777600244</td>\n",
       "    </tr>\n",
       "    <tr>\n",
       "        <td style=\"padding-left: 1em; padding-right: 1em; text-align: center; vertical-align: top\">-17034.706028410208</td>\n",
       "        <td style=\"padding-left: 1em; padding-right: 1em; text-align: center; vertical-align: top\">119564.31275481996</td>\n",
       "        <td style=\"padding-left: 1em; padding-right: 1em; text-align: center; vertical-align: top\">-839205.8460351703</td>\n",
       "        <td style=\"padding-left: 1em; padding-right: 1em; text-align: center; vertical-align: top\">5890273.073904444</td>\n",
       "        <td style=\"padding-left: 1em; padding-right: 1em; text-align: center; vertical-align: top\">-41343035.26254234</td>\n",
       "    </tr>\n",
       "    <tr>\n",
       "        <td style=\"padding-left: 1em; padding-right: 1em; text-align: center; vertical-align: top\">6374.168647075208</td>\n",
       "        <td style=\"padding-left: 1em; padding-right: 1em; text-align: center; vertical-align: top\">36754.30879405593</td>\n",
       "        <td style=\"padding-left: 1em; padding-right: 1em; text-align: center; vertical-align: top\">211930.2594148758</td>\n",
       "        <td style=\"padding-left: 1em; padding-right: 1em; text-align: center; vertical-align: top\">1222018.215804954</td>\n",
       "        <td style=\"padding-left: 1em; padding-right: 1em; text-align: center; vertical-align: top\">7046320.444669372</td>\n",
       "    </tr>\n",
       "    <tr>\n",
       "        <td style=\"padding-left: 1em; padding-right: 1em; text-align: center; vertical-align: top\">-8636.755661668822</td>\n",
       "        <td style=\"padding-left: 1em; padding-right: 1em; text-align: center; vertical-align: top\">52920.1126541278</td>\n",
       "        <td style=\"padding-left: 1em; padding-right: 1em; text-align: center; vertical-align: top\">-324258.1396339337</td>\n",
       "        <td style=\"padding-left: 1em; padding-right: 1em; text-align: center; vertical-align: top\">1986831.3925567283</td>\n",
       "        <td style=\"padding-left: 1em; padding-right: 1em; text-align: center; vertical-align: top\">-12173939.525173916</td>\n",
       "    </tr>\n",
       "    <tr>\n",
       "        <td style=\"padding-left: 1em; padding-right: 1em; text-align: center; vertical-align: top\">-7083.271352553807</td>\n",
       "        <td style=\"padding-left: 1em; padding-right: 1em; text-align: center; vertical-align: top\">41713.886523290326</td>\n",
       "        <td style=\"padding-left: 1em; padding-right: 1em; text-align: center; vertical-align: top\">-245656.03127015373</td>\n",
       "        <td style=\"padding-left: 1em; padding-right: 1em; text-align: center; vertical-align: top\">1446685.7617237119</td>\n",
       "        <td style=\"padding-left: 1em; padding-right: 1em; text-align: center; vertical-align: top\">-8519634.882778455</td>\n",
       "    </tr>\n",
       "    <tr>\n",
       "        <td style=\"padding-left: 1em; padding-right: 1em; text-align: center; vertical-align: top\">60.938324953720276</td>\n",
       "        <td style=\"padding-left: 1em; padding-right: 1em; text-align: center; vertical-align: top\">138.63363632533398</td>\n",
       "        <td style=\"padding-left: 1em; padding-right: 1em; text-align: center; vertical-align: top\">315.3891272098648</td>\n",
       "        <td style=\"padding-left: 1em; padding-right: 1em; text-align: center; vertical-align: top\">717.5048148399684</td>\n",
       "        <td style=\"padding-left: 1em; padding-right: 1em; text-align: center; vertical-align: top\">1632.3110561004619</td>\n",
       "    </tr>\n",
       "    <tr>\n",
       "        <td style=\"padding-left: 1em; padding-right: 1em; text-align: center; vertical-align: top\">-6723.4000919059645</td>\n",
       "        <td style=\"padding-left: 1em; padding-right: 1em; text-align: center; vertical-align: top\">39183.81766741386</td>\n",
       "        <td style=\"padding-left: 1em; padding-right: 1em; text-align: center; vertical-align: top\">-228362.36814785234</td>\n",
       "        <td style=\"padding-left: 1em; padding-right: 1em; text-align: center; vertical-align: top\">1330890.5127297956</td>\n",
       "        <td style=\"padding-left: 1em; padding-right: 1em; text-align: center; vertical-align: top\">-7756398.618739916</td>\n",
       "    </tr>\n",
       "</table>\n",
       "<table frame=\"box\" rules=\"cols\">\n",
       "    <tr>\n",
       "        <th style=\"padding-left: 1em; padding-right: 1em; text-align: center\">X^10</th>\n",
       "    </tr>\n",
       "    <tr>\n",
       "        <td style=\"padding-left: 1em; padding-right: 1em; text-align: center; vertical-align: top\">4104497.746128987</td>\n",
       "    </tr>\n",
       "    <tr>\n",
       "        <td style=\"padding-left: 1em; padding-right: 1em; text-align: center; vertical-align: top\">79402.65523277488</td>\n",
       "    </tr>\n",
       "    <tr>\n",
       "        <td style=\"padding-left: 1em; padding-right: 1em; text-align: center; vertical-align: top\">1805302871.367809</td>\n",
       "    </tr>\n",
       "    <tr>\n",
       "        <td style=\"padding-left: 1em; padding-right: 1em; text-align: center; vertical-align: top\">2348405.124233581</td>\n",
       "    </tr>\n",
       "    <tr>\n",
       "        <td style=\"padding-left: 1em; padding-right: 1em; text-align: center; vertical-align: top\">290181209.4743551</td>\n",
       "    </tr>\n",
       "    <tr>\n",
       "        <td style=\"padding-left: 1em; padding-right: 1em; text-align: center; vertical-align: top\">40630025.94135659</td>\n",
       "    </tr>\n",
       "    <tr>\n",
       "        <td style=\"padding-left: 1em; padding-right: 1em; text-align: center; vertical-align: top\">74593548.35936846</td>\n",
       "    </tr>\n",
       "    <tr>\n",
       "        <td style=\"padding-left: 1em; padding-right: 1em; text-align: center; vertical-align: top\">50172733.05390945</td>\n",
       "    </tr>\n",
       "    <tr>\n",
       "        <td style=\"padding-left: 1em; padding-right: 1em; text-align: center; vertical-align: top\">3713.4794481652075</td>\n",
       "    </tr>\n",
       "    <tr>\n",
       "        <td style=\"padding-left: 1em; padding-right: 1em; text-align: center; vertical-align: top\">45204108.795841135</td>\n",
       "    </tr>\n",
       "</table>\n",
       "[500 rows x 11 columns]<br/>Note: Only the head of the SFrame is printed.<br/>You can use print_rows(num_rows=m, num_columns=n) to print more rows and columns.\n",
       "</div>"
      ],
      "text/plain": [
       "Columns:\n",
       "\tX\tfloat\n",
       "\tY\tfloat\n",
       "\tX^2\tfloat\n",
       "\tX^3\tfloat\n",
       "\tX^4\tfloat\n",
       "\tX^5\tfloat\n",
       "\tX^6\tfloat\n",
       "\tX^7\tfloat\n",
       "\tX^8\tfloat\n",
       "\tX^9\tfloat\n",
       "\tX^10\tfloat\n",
       "\n",
       "Rows: 500\n",
       "\n",
       "Data:\n",
       "+---------------------+---------------------+--------------------+\n",
       "|          X          |          Y          |        X^2         |\n",
       "+---------------------+---------------------+--------------------+\n",
       "|  -4.584859189734893 |  -1212.66411903042  | 21.020933789696503 |\n",
       "| -3.0901780443779163 |  -1250.177324011609 | 9.549200345955324  |\n",
       "|  8.426650996722643  |  5869.886429304624  |  71.0084470205667  |\n",
       "|  4.335880477122036  |  669.5453781129693  | 18.799859511888013 |\n",
       "|  -7.018865635568499 |  -2638.42443678629  | 49.26447481016439  |\n",
       "|  5.766133723324165  |  2350.9582923902735 |  33.2482981152562  |\n",
       "|  -6.127313858025989 | -1437.6427025988673 | 37.54397511475733  |\n",
       "| -5.8890708045867495 |  -1068.465116475831 | 34.68115494143603  |\n",
       "|  2.2749827211466602 |  13.679224058673043 | 5.175546381515863  |\n",
       "|  -5.827976489839672 | -1123.0559390905314 | 33.96530996612395  |\n",
       "+---------------------+---------------------+--------------------+\n",
       "+---------------------+--------------------+---------------------+\n",
       "|         X^3         |        X^4         |         X^5         |\n",
       "+---------------------+--------------------+---------------------+\n",
       "|  -96.37802146249875 | 441.8796573908042  | -2025.9560079451348 |\n",
       "| -29.508729250437142 | 91.18722724719326  |  -281.7847675669763 |\n",
       "|  598.3634008615854  | 5042.199548272629  |  42488.855849126005 |\n",
       "|  81.51394383023224  | 353.43471766672616 |  1532.4506922682965 |\n",
       "|  -345.7807292993928 | 2426.988478321322  | -17034.706028410208 |\n",
       "|  191.71413300551404 | 1105.4493275609489 |  6374.168647075208  |\n",
       "| -230.04371900603545 | 1409.5500674175175 |  -8636.755661668822 |\n",
       "| -204.23977703496038 | 1202.7825080718924 |  -7083.271352553807 |\n",
       "|  11.774278590441709 | 26.78628034722194  |  60.938324953720276 |\n",
       "|  -197.9490279526875 | 1153.6422810948789 | -6723.4000919059645 |\n",
       "+---------------------+--------------------+---------------------+\n",
       "+--------------------+---------------------+--------------------+\n",
       "|        X^6         |         X^7         |        X^8         |\n",
       "+--------------------+---------------------+--------------------+\n",
       "|  9288.72302102587  |  -42587.48710385252 | 195257.6316158145  |\n",
       "| 870.7651019756047  |  -2690.819199935511 | 8315.110413031267  |\n",
       "| 358038.75949064235 |  3017067.6695271595 |  25423776.2846007  |\n",
       "| 6644.523038758255  |   28809.8577235395  | 124916.09965215842 |\n",
       "| 119564.31275481996 |  -839205.8460351703 | 5890273.073904444  |\n",
       "| 36754.30879405593  |  211930.2594148758  | 1222018.215804954  |\n",
       "|  52920.1126541278  |  -324258.1396339337 | 1986831.3925567283 |\n",
       "| 41713.886523290326 | -245656.03127015373 | 1446685.7617237119 |\n",
       "| 138.63363632533398 |  315.3891272098648  | 717.5048148399684  |\n",
       "| 39183.81766741386  | -228362.36814785234 | 1330890.5127297956 |\n",
       "+--------------------+---------------------+--------------------+\n",
       "+---------------------+--------------------+\n",
       "|         X^9         |        X^10        |\n",
       "+---------------------+--------------------+\n",
       "|  -895228.7466796375 | 4104497.746128987  |\n",
       "| -25695.171634927407 | 79402.65523277488  |\n",
       "|  214237289.76908398 | 1805302871.367809  |\n",
       "|  541621.2777600244  | 2348405.124233581  |\n",
       "|  -41343035.26254234 | 290181209.4743551  |\n",
       "|  7046320.444669372  | 40630025.94135659  |\n",
       "| -12173939.525173916 | 74593548.35936846  |\n",
       "|  -8519634.882778455 | 50172733.05390945  |\n",
       "|  1632.3110561004619 | 3713.4794481652075 |\n",
       "|  -7756398.618739916 | 45204108.795841135 |\n",
       "+---------------------+--------------------+\n",
       "[500 rows x 11 columns]\n",
       "Note: Only the head of the SFrame is printed.\n",
       "You can use print_rows(num_rows=m, num_columns=n) to print more rows and columns."
      ]
     },
     "execution_count": 322,
     "metadata": {},
     "output_type": "execute_result"
    }
   ],
   "source": [
    "#creating more dataset\n",
    "for i in range(2,11):\n",
    "    data['X^'+str(i)] = data['X'].apply(lambda x: x**i)\n",
    "\n",
    "data"
   ]
  },
  {
   "cell_type": "code",
   "execution_count": 341,
   "id": "2363d6de-fb9d-452e-917f-f06db5762703",
   "metadata": {},
   "outputs": [
    {
     "data": {
      "text/plain": [
       "(73, 11)"
      ]
     },
     "execution_count": 341,
     "metadata": {},
     "output_type": "execute_result"
    }
   ],
   "source": [
    "#spliting our data\n",
    "train_data, testing_data = data.random_split(0.70, seed = 3)\n",
    "validation_data,test_data = testing_data.random_split(0.5, seed = 0)\n",
    "test_data.shape"
   ]
  },
  {
   "cell_type": "code",
   "execution_count": 342,
   "id": "7ae9f6d1-501b-4612-903c-aa9e648d5c46",
   "metadata": {},
   "outputs": [],
   "source": [
    "#creating a model elastic regression\n",
    "model_elastic_reg = tc.linear_regression.create(train_data, target = 'Y', l1_penalty = 0.1, l2_penalty = 0.1, validation_set = validation_data, verbose = False)"
   ]
  },
  {
   "cell_type": "code",
   "execution_count": 343,
   "id": "d701cc2c-8af6-4a84-a68e-d49daff0a950",
   "metadata": {},
   "outputs": [],
   "source": [
    "#creating a function to display the model\n",
    "def display_results(model):\n",
    "    coeffs = model.coefficients\n",
    "    n = len(coeffs)\n",
    "    print(f\"Training error(rmse) is : {model.evaluate(train_data)['rmse']}\")\n",
    "    print(f\"Validation error(rmse) is : {model.evaluate(validation_data)['rmse']}\")\n",
    "    plt.scatter(train_data['X'], train_data['Y'], c = 'k', marker = 'o')\n",
    "    plt.scatter(validation_data['X'], validation_data['Y'], c = 'b', marker = 'x')\n",
    "    x = np.linspace(-10,10)\n",
    "    draw_polynomial(coeffs['value'])\n",
    "    #plt.plot(x, sum([coeffs['value'][i]*x**i for i in range(n)]), linestyle='-', color='green')\n",
    "    plt.xlabel('X')\n",
    "    plt.ylabel('Y')\n",
    "    plt.show()\n",
    "    print(\"Polynomial coefficients\")\n",
    "    print(coeffs['name', 'value'])"
   ]
  },
  {
   "cell_type": "code",
   "execution_count": 344,
   "id": "5ca31144-d22f-4644-9a37-b7004ed74854",
   "metadata": {},
   "outputs": [
    {
     "name": "stdout",
     "output_type": "stream",
     "text": [
      "Training error(rmse) is : 580.0508567430304\n",
      "Validation error(rmse) is : 531.8564708482855\n"
     ]
    },
    {
     "data": {
      "image/png": "[encoded data removed]",
      "text/plain": [
       "<Figure size 432x288 with 1 Axes>"
      ]
     },
     "metadata": {
      "needs_background": "light"
     },
     "output_type": "display_data"
    },
    {
     "name": "stdout",
     "output_type": "stream",
     "text": [
      "Polynomial coefficients\n",
      "+-------------+------------------------+\n",
      "|     name    |         value          |\n",
      "+-------------+------------------------+\n",
      "| (intercept) |   159.5538145541961    |\n",
      "|      X      |   178.9899575471823    |\n",
      "|     X^2     |   3.5679054008651674   |\n",
      "|     X^3     |   2.576670509739945    |\n",
      "|     X^4     |  0.02526581469973488   |\n",
      "|     X^5     |  0.02373529612487802   |\n",
      "|     X^6     | 9.400816388367116e-05  |\n",
      "|     X^7     | 0.00019105933465788394 |\n",
      "|     X^8     | -7.185287413313286e-07 |\n",
      "|     X^9     | 1.394709317090123e-06  |\n",
      "+-------------+------------------------+\n",
      "[11 rows x 2 columns]\n",
      "Note: Only the head of the SFrame is printed.\n",
      "You can use print_rows(num_rows=m, num_columns=n) to print more rows and columns.\n"
     ]
    }
   ],
   "source": [
    "display_results(model_elastic_reg)"
   ]
  },
  {
   "cell_type": "markdown",
   "id": "060b1970-cc97-4e18-9fdc-c18bb3327d2f",
   "metadata": {},
   "source": [
    "The training data rmse is a higher than the validation data rmse. This implies underfitting or regularization the model."
   ]
  },
  {
   "cell_type": "code",
   "execution_count": 351,
   "id": "7cc03af4-6253-49c4-a14a-a5e783f95c53",
   "metadata": {},
   "outputs": [],
   "source": [
    "#training our model using different hyperparameters\n",
    "# where n is the 3rd value in the linspace which is 3\n",
    "l1_penalty_values = np.linspace(0, 1, 3)\n",
    "l2_penalty_values = np.linspace(0, 1, 3)\n",
    "indices = []\n",
    "train_rmse = []\n",
    "valid_rmse = []\n",
    "index = 0\n",
    "    \n",
    "\n",
    "for l1_penalty in l1_penalty_values:\n",
    "    for l2_penalty in l2_penalty_values:\n",
    "        index += 1\n",
    "        # Train a model with current L1 and L2 penalties\n",
    "        optimal_model = tc.linear_regression.create(train_data, \n",
    "                                                     target='Y', \n",
    "                                                     l1_penalty=(l1_penalty), \n",
    "                                                     l2_penalty=(l2_penalty), \n",
    "                                                     verbose=False,\n",
    "                                                    validation_set = validation_data)\n",
    "                \n",
    "        # Evaluate the model on training and validation sets\n",
    "        t_rmse = optimal_model.evaluate(train_data)['rmse']\n",
    "        v_rmse = optimal_model.evaluate(validation_data)['rmse']\n",
    "        #append the rmse values and index\n",
    "        train_rmse.append(t_rmse)\n",
    "        valid_rmse.append(v_rmse)\n",
    "        indices.append(index)\n"
   ]
  },
  {
   "cell_type": "code",
   "execution_count": 352,
   "id": "0a407ee2-aa36-43ce-bbea-a8972359445d",
   "metadata": {},
   "outputs": [
    {
     "name": "stdout",
     "output_type": "stream",
     "text": [
      "The l1_penalty values are: [0.  0.5 1. ]\n",
      "\n",
      "The l2_penalty values are: [0.  0.5 1. ]\n",
      "\n",
      "The index values are:  [1, 2, 3, 4, 5, 6, 7, 8, 9]\n",
      "\n",
      "The train rmse values are:  [483.477646811761, 490.62297005572486, 493.9163101310262, 580.024787947463, 580.1564626383549, 580.2910227069453, 580.024830687966, 580.1565072929745, 580.2910692689841]\n",
      "\n",
      "The validation rmse values are:  [489.89120217882396, 485.9966687170872, 484.89663531555203, 531.8050181890608, 532.0645328650783, 532.3271315870467, 531.8052709794715, 532.0647873776442, 532.3273878129875]\n"
     ]
    }
   ],
   "source": [
    "#printing the values\n",
    "print(f\"The l1_penalty values are: {l1_penalty_values}\")\n",
    "print(f\"\\nThe l2_penalty values are: {l2_penalty_values}\")\n",
    "print(\"\\nThe index values are: \", indices)\n",
    "print(\"\\nThe train rmse values are: \", train_rmse)\n",
    "print(\"\\nThe validation rmse values are: \", valid_rmse)"
   ]
  },
  {
   "cell_type": "code",
   "execution_count": 353,
   "id": "c3545790-4bac-4507-ba87-1483c36bef4e",
   "metadata": {},
   "outputs": [
    {
     "data": {
      "image/png": "[encoded data removed]",
      "text/plain": [
       "<Figure size 432x288 with 1 Axes>"
      ]
     },
     "metadata": {
      "needs_background": "light"
     },
     "output_type": "display_data"
    }
   ],
   "source": [
    "#plotting the various rmse values to look for the best model\n",
    "plt.scatter(indices, train_rmse, c='k', marker='o', label='Train RMSE')\n",
    "plt.plot(indices, train_rmse, color='black', linestyle='-', label='Train RMSE')\n",
    "plt.scatter(indices, valid_rmse, c='b', marker='x', label='Validation RMSE')\n",
    "plt.plot(indices, valid_rmse, color='red', linestyle='-', label='Validation RMSE')\n",
    "plt.xlabel('Indices')\n",
    "plt.ylabel('RMSE of the model')\n",
    "plt.title('Train and Validation RMSE scatter plot')\n",
    "plt.legend()        \n",
    "plt.tight_layout()\n",
    "plt.show()\n"
   ]
  },
  {
   "cell_type": "markdown",
   "id": "52275cbd-decb-43d5-8355-2d8bbe7c3e22",
   "metadata": {},
   "source": [
    "The best model happens to be on the 2nd iteration which is a combination of l1 penalty of 0 and l2 penalty of 0. \n",
    "The rmse of the validation set is 484.89663531555203 while the rmse of the training set is 493.9163101310262."
   ]
  },
  {
   "cell_type": "code",
   "execution_count": 354,
   "id": "97d0ea41-cbba-4e69-a38f-aba7c738bcc8",
   "metadata": {},
   "outputs": [],
   "source": [
    "#training our final hyperparameter\n",
    "final_optimal_model = tc.linear_regression.create(train_data, target = 'Y', l1_penalty = 0, l2_penalty = 1, validation_set = validation_data, verbose = False)"
   ]
  },
  {
   "cell_type": "code",
   "execution_count": 355,
   "id": "384d4e78-2ace-4ed5-8da3-8ab28d1ddd72",
   "metadata": {},
   "outputs": [
    {
     "name": "stdout",
     "output_type": "stream",
     "text": [
      "Training error(rmse) is : 493.9163101310262\n",
      "Validation error(rmse) is : 484.89663531555203\n"
     ]
    },
    {
     "data": {
      "image/png": "[encoded data removed]",
      "text/plain": [
       "<Figure size 432x288 with 1 Axes>"
      ]
     },
     "metadata": {
      "needs_background": "light"
     },
     "output_type": "display_data"
    },
    {
     "name": "stdout",
     "output_type": "stream",
     "text": [
      "Polynomial coefficients\n",
      "+-------------+------------------------+\n",
      "|     name    |         value          |\n",
      "+-------------+------------------------+\n",
      "| (intercept) |   137.81986378211022   |\n",
      "|      X      |   43.83704406481856    |\n",
      "|     X^2     |   2.2728906167466856   |\n",
      "|     X^3     |   6.377380394561671    |\n",
      "|     X^4     |  0.024914285376607274  |\n",
      "|     X^5     |  0.030040670810836875  |\n",
      "|     X^6     | 0.0006052224525788272  |\n",
      "|     X^7     | 1.9876071108481266e-05 |\n",
      "|     X^8     | 2.5746262650521334e-06 |\n",
      "|     X^9     | -8.847608372299589e-07 |\n",
      "+-------------+------------------------+\n",
      "[11 rows x 2 columns]\n",
      "Note: Only the head of the SFrame is printed.\n",
      "You can use print_rows(num_rows=m, num_columns=n) to print more rows and columns.\n"
     ]
    }
   ],
   "source": [
    "display_results(final_optimal_model)"
   ]
  },
  {
   "cell_type": "code",
   "execution_count": 356,
   "id": "ac90bf05-25a2-4f26-a33c-0da3197db017",
   "metadata": {},
   "outputs": [
    {
     "data": {
      "text/plain": [
       "463.8111213485993"
      ]
     },
     "execution_count": 356,
     "metadata": {},
     "output_type": "execute_result"
    }
   ],
   "source": [
    "#calculating the error on test data\n",
    "final_optimal_model.evaluate(test_data)['rmse']"
   ]
  },
  {
   "cell_type": "markdown",
   "id": "77adb8f5-8896-4541-a741-3c4c4a05a299",
   "metadata": {},
   "source": [
    "## Contribution to the assignment\n",
    "Students name:Busayo Ososanwo and Sodiq Akinbolaji\n",
    "Each student worked on all questions separately, then had a call on teams to compare and tune our solutions.\n",
    "Formatting was done by Busayo while sharing ideas with Sodiq during the call.\n",
    "Finally, the submission will be made by Sodiq."
   ]
  }
 ],
 "metadata": {
  "kernelspec": {
   "display_name": "Python 3",
   "language": "python",
   "name": "python3"
  },
  "language_info": {
   "codemirror_mode": {
    "name": "ipython",
    "version": 3
   },
   "file_extension": ".py",
   "mimetype": "text/x-python",
   "name": "python",
   "nbconvert_exporter": "python",
   "pygments_lexer": "ipython3",
   "version": "3.6.9"
  }
 },
 "nbformat": 4,
 "nbformat_minor": 5
}
