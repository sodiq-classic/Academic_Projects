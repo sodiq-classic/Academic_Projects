{
 "cells": [
  {
   "cell_type": "markdown",
   "metadata": {},
   "source": [
    "Import the numpy module"
   ]
  },
  {
   "cell_type": "code",
   "execution_count": 2,
   "metadata": {},
   "outputs": [],
   "source": [
    "import numpy as np"
   ]
  },
  {
   "cell_type": "markdown",
   "metadata": {},
   "source": [
    "Create a 1d numpy array called arr1 that looks like the one below. Display it."
   ]
  },
  {
   "cell_type": "code",
   "execution_count": 3,
   "metadata": {},
   "outputs": [
    {
     "data": {
      "text/plain": [
       "array([ 3,  6,  9, 12, 15])"
      ]
     },
     "execution_count": 3,
     "metadata": {},
     "output_type": "execute_result"
    }
   ],
   "source": [
    "arr1 = np.array([3, 6, 9, 12, 15])\n",
    "arr1"
   ]
  },
  {
   "cell_type": "markdown",
   "metadata": {},
   "source": [
    "Print out the 3rd element of the array."
   ]
  },
  {
   "cell_type": "code",
   "execution_count": 4,
   "metadata": {},
   "outputs": [
    {
     "data": {
      "text/plain": [
       "9"
      ]
     },
     "execution_count": 4,
     "metadata": {},
     "output_type": "execute_result"
    }
   ],
   "source": [
    "arr1[2]"
   ]
  },
  {
   "cell_type": "markdown",
   "metadata": {},
   "source": [
    "Create a 2d numpy array called arr2 that looks like the one below. Display it."
   ]
  },
  {
   "cell_type": "code",
   "execution_count": 5,
   "metadata": {},
   "outputs": [
    {
     "data": {
      "text/plain": [
       "array([[ 2,  4,  6],\n",
       "       [ 3,  6,  9],\n",
       "       [ 4,  8, 12]])"
      ]
     },
     "execution_count": 5,
     "metadata": {},
     "output_type": "execute_result"
    }
   ],
   "source": [
    "arr2 = np.array([[2, 4, 6], [3, 6, 9], [4, 8, 12]])\n",
    "arr2"
   ]
  },
  {
   "cell_type": "markdown",
   "metadata": {},
   "source": [
    "Print out the element at row=3,col=2."
   ]
  },
  {
   "cell_type": "code",
   "execution_count": 6,
   "metadata": {},
   "outputs": [
    {
     "data": {
      "text/plain": [
       "8"
      ]
     },
     "execution_count": 6,
     "metadata": {},
     "output_type": "execute_result"
    }
   ],
   "source": [
    "arr2[2, 1]"
   ]
  },
  {
   "cell_type": "markdown",
   "metadata": {},
   "source": [
    "Create an array that goes from 0 to 100 with step=3. Display it."
   ]
  },
  {
   "cell_type": "code",
   "execution_count": 7,
   "metadata": {},
   "outputs": [
    {
     "data": {
      "text/plain": [
       "array([ 0,  3,  6,  9, 12, 15, 18, 21, 24, 27, 30, 33, 36, 39, 42, 45, 48,\n",
       "       51, 54, 57, 60, 63, 66, 69, 72, 75, 78, 81, 84, 87, 90, 93, 96, 99])"
      ]
     },
     "execution_count": 7,
     "metadata": {},
     "output_type": "execute_result"
    }
   ],
   "source": [
    "range = np.arange(0, 100, 3)\n",
    "range"
   ]
  },
  {
   "cell_type": "markdown",
   "metadata": {},
   "source": [
    "Create a 10x5 2d array filled with zeroes. Display it."
   ]
  },
  {
   "cell_type": "code",
   "execution_count": 8,
   "metadata": {},
   "outputs": [
    {
     "data": {
      "text/plain": [
       "array([[0., 0., 0., 0., 0.],\n",
       "       [0., 0., 0., 0., 0.],\n",
       "       [0., 0., 0., 0., 0.],\n",
       "       [0., 0., 0., 0., 0.],\n",
       "       [0., 0., 0., 0., 0.],\n",
       "       [0., 0., 0., 0., 0.],\n",
       "       [0., 0., 0., 0., 0.],\n",
       "       [0., 0., 0., 0., 0.],\n",
       "       [0., 0., 0., 0., 0.],\n",
       "       [0., 0., 0., 0., 0.]])"
      ]
     },
     "execution_count": 8,
     "metadata": {},
     "output_type": "execute_result"
    }
   ],
   "source": [
    "zeroes = np.zeros((10, 5))\n",
    "zeroes"
   ]
  },
  {
   "cell_type": "markdown",
   "metadata": {},
   "source": [
    "Create an array called lin1d, that has 100 data points spaced between 57 and 108. Display it."
   ]
  },
  {
   "cell_type": "code",
   "execution_count": 9,
   "metadata": {},
   "outputs": [
    {
     "data": {
      "text/plain": [
       "array([ 57.        ,  57.51515152,  58.03030303,  58.54545455,\n",
       "        59.06060606,  59.57575758,  60.09090909,  60.60606061,\n",
       "        61.12121212,  61.63636364,  62.15151515,  62.66666667,\n",
       "        63.18181818,  63.6969697 ,  64.21212121,  64.72727273,\n",
       "        65.24242424,  65.75757576,  66.27272727,  66.78787879,\n",
       "        67.3030303 ,  67.81818182,  68.33333333,  68.84848485,\n",
       "        69.36363636,  69.87878788,  70.39393939,  70.90909091,\n",
       "        71.42424242,  71.93939394,  72.45454545,  72.96969697,\n",
       "        73.48484848,  74.        ,  74.51515152,  75.03030303,\n",
       "        75.54545455,  76.06060606,  76.57575758,  77.09090909,\n",
       "        77.60606061,  78.12121212,  78.63636364,  79.15151515,\n",
       "        79.66666667,  80.18181818,  80.6969697 ,  81.21212121,\n",
       "        81.72727273,  82.24242424,  82.75757576,  83.27272727,\n",
       "        83.78787879,  84.3030303 ,  84.81818182,  85.33333333,\n",
       "        85.84848485,  86.36363636,  86.87878788,  87.39393939,\n",
       "        87.90909091,  88.42424242,  88.93939394,  89.45454545,\n",
       "        89.96969697,  90.48484848,  91.        ,  91.51515152,\n",
       "        92.03030303,  92.54545455,  93.06060606,  93.57575758,\n",
       "        94.09090909,  94.60606061,  95.12121212,  95.63636364,\n",
       "        96.15151515,  96.66666667,  97.18181818,  97.6969697 ,\n",
       "        98.21212121,  98.72727273,  99.24242424,  99.75757576,\n",
       "       100.27272727, 100.78787879, 101.3030303 , 101.81818182,\n",
       "       102.33333333, 102.84848485, 103.36363636, 103.87878788,\n",
       "       104.39393939, 104.90909091, 105.42424242, 105.93939394,\n",
       "       106.45454545, 106.96969697, 107.48484848, 108.        ])"
      ]
     },
     "execution_count": 9,
https://www.kaggle.com/datasets/piterfm/fifa-football-world-cup/data?select=world_cup.csv
   "metadata": {},
   "outputs": [
    {
     "data": {
      "text/plain": [
       "array([[ 57.        ,  57.51515152,  58.03030303,  58.54545455,\n",
       "         59.06060606,  59.57575758,  60.09090909,  60.60606061,\n",
       "         61.12121212,  61.63636364],\n",
       "       [ 62.15151515,  62.66666667,  63.18181818,  63.6969697 ,\n",
       "         64.21212121,  64.72727273,  65.24242424,  65.75757576,\n",
       "         66.27272727,  66.78787879],\n",
       "       [ 67.3030303 ,  67.81818182,  68.33333333,  68.84848485,\n",
       "         69.36363636,  69.87878788,  70.39393939,  70.90909091,\n",
       "         71.42424242,  71.93939394],\n",
       "       [ 72.45454545,  72.96969697,  73.48484848,  74.        ,\n",
       "         74.51515152,  75.03030303,  75.54545455,  76.06060606,\n",
       "         76.57575758,  77.09090909],\n",
       "       [ 77.60606061,  78.12121212,  78.63636364,  79.15151515,\n",
       "         79.66666667,  80.18181818,  80.6969697 ,  81.21212121,\n",
       "         81.72727273,  82.24242424],\n",
       "       [ 82.75757576,  83.27272727,  83.78787879,  84.3030303 ,\n",
       "         84.81818182,  85.33333333,  85.84848485,  86.36363636,\n",
       "         86.87878788,  87.39393939],\n",
       "       [ 87.90909091,  88.42424242,  88.93939394,  89.45454545,\n",
       "         89.96969697,  90.48484848,  91.        ,  91.51515152,\n",
       "         92.03030303,  92.54545455],\n",
       "       [ 93.06060606,  93.57575758,  94.09090909,  94.60606061,\n",
       "         95.12121212,  95.63636364,  96.15151515,  96.66666667,\n",
       "         97.18181818,  97.6969697 ],\n",
       "       [ 98.21212121,  98.72727273,  99.24242424,  99.75757576,\n",
       "        100.27272727, 100.78787879, 101.3030303 , 101.81818182,\n",
       "        102.33333333, 102.84848485],\n",
       "       [103.36363636, 103.87878788, 104.39393939, 104.90909091,\n",
       "        105.42424242, 105.93939394, 106.45454545, 106.96969697,\n",
       "        107.48484848, 108.        ]])"
      ]
     },
     "execution_count": 10,
     "metadata": {},
     "output_type": "execute_result"
    }
   ],
   "source": [
    "lin2d = lin1d.reshape(10, 10)\n",
    "lin2d"
   ]
  },
  {
   "cell_type": "markdown",
   "metadata": {},
   "source": [
    "Print out the shape of lin1d and lin2d."
   ]
  },
  {
   "cell_type": "code",
   "execution_count": 11,
   "metadata": {},
   "outputs": [
    {
     "name": "stdout",
     "output_type": "stream",
     "text": [
      "lin1d: (100,)\n",
      "lin2d: (10, 10)\n"
     ]
    }
   ],
   "source": [
    "print(f\"lin1d: {lin1d.shape}\")\n",
    "print(f\"lin2d: {lin2d.shape}\")"
   ]
  },
  {
   "cell_type": "markdown",
   "metadata": {},
   "source": [
    "Generate a 5x5 array of random numbers called nums. Display it."
   ]
  },
  {
   "cell_type": "code",
   "execution_count": 12,
   "metadata": {},
   "outputs": [
    {
     "data": {
      "text/plain": [
       "array([[0.1955981 , 0.39891969, 0.69358633, 0.57956408, 0.43376636],\n",
       "       [0.32243443, 0.91955741, 0.69606947, 0.46400004, 0.22409351],\n",
       "       [0.69527987, 0.17916741, 0.44593645, 0.4831273 , 0.49594025],\n",
       "       [0.35547523, 0.60622094, 0.69024447, 0.17195523, 0.13242233],\n",
       "       [0.89370661, 0.82486994, 0.90782747, 0.37844045, 0.37322549]])"
      ]
     },
     "execution_count": 12,
     "metadata": {},
     "output_type": "execute_result"
    }
   ],
   "source": [
    "nums = np.random.rand(5, 5)\n",
    "nums"
   ]
  },
  {
   "cell_type": "markdown",
   "metadata": {},
   "source": [
    "Print out the min, max and mean of the nums array."
   ]
  },
  {
   "cell_type": "code",
   "execution_count": 13,
   "metadata": {},
   "outputs": [
    {
     "name": "stdout",
     "output_type": "stream",
     "text": [
      "Min: 0.13242232546182253\n",
      "Max: 0.9195574091615665\n",
      "Mea: 0.5024571544884445\n"
     ]
    }
   ],
   "source": [
    "print(f\"Min: {nums.min()}\")\n",
    "print(f\"Max: {nums.max()}\")\n",
    "print(f\"Mea: {nums.mean()}\")"
   ]
  },
  {
   "cell_type": "markdown",
   "metadata": {},
   "source": [
    "Multiply the entire array nums x2 and store it back in nums. Display the result."
   ]
  },
  {
   "cell_type": "code",
   "execution_count": 14,
   "metadata": {},
   "outputs": [
    {
     "data": {
      "text/plain": [
       "array([[0.39119621, 0.79783938, 1.38717267, 1.15912816, 0.86753272],\n",
       "       [0.64486885, 1.83911482, 1.39213894, 0.92800007, 0.44818703],\n",
       "       [1.39055975, 0.35833482, 0.8918729 , 0.96625459, 0.9918805 ],\n",
       "       [0.71095046, 1.21244188, 1.38048893, 0.34391046, 0.26484465],\n",
       "       [1.78741322, 1.64973988, 1.81565493, 0.7568809 , 0.74645099]])"
      ]
     },
     "execution_count": 14,
     "metadata": {},
     "output_type": "execute_result"
    }
   ],
   "source": [
    "nums = nums * 2\n",
    "nums"
   ]
  },
  {
   "cell_type": "markdown",
   "metadata": {},
   "source": [
    "Select rows 1 to 2 and cols 2 to 3 and display the result."
   ]
  },
  {
   "cell_type": "code",
   "execution_count": 15,
   "metadata": {},
   "outputs": [
    {
     "data": {
      "text/plain": [
       "array([[1.39213894, 0.92800007],\n",
       "       [0.8918729 , 0.96625459]])"
      ]
     },
     "execution_count": 15,
     "metadata": {},
     "output_type": "execute_result"
    }
   ],
   "source": [
    "nums[1:3, 2:4]"
   ]
  },
  {
   "cell_type": "markdown",
   "metadata": {},
   "source": [
    "Modify that same selection by multiplying it x10, then display the new nums array."
   ]
  },
  {
   "cell_type": "code",
   "execution_count": 16,
   "metadata": {},
   "outputs": [
    {
     "data": {
      "text/plain": [
       "array([[ 0.39119621,  0.79783938,  1.38717267,  1.15912816,  0.86753272],\n",
       "       [ 0.64486885,  1.83911482, 13.92138943,  9.28000074,  0.44818703],\n",
       "       [ 1.39055975,  0.35833482,  8.91872895,  9.66254593,  0.9918805 ],\n",
       "       [ 0.71095046,  1.21244188,  1.38048893,  0.34391046,  0.26484465],\n",
       "       [ 1.78741322,  1.64973988,  1.81565493,  0.7568809 ,  0.74645099]])"
      ]
     },
     "execution_count": 16,
     "metadata": {},
     "output_type": "execute_result"
    }
   ],
   "source": [
    "nums[1:3, 2:4] = nums[1:3, 2:4] * 10\n",
    "nums"
   ]
  },
  {
   "cell_type": "markdown",
   "metadata": {},
   "source": [
    "Load 'data9.npy' into a numpy array named 'data'. Display the array."
   ]
  },
  {
   "cell_type": "code",
   "execution_count": 18,
   "metadata": {},
   "outputs": [
    {
     "data": {
      "text/plain": [
       "array([[0.07301979, 0.16473597, 0.81951432, 0.99818186],\n",
       "       [0.62804768, 0.34424393, 0.58308361, 0.09436134],\n",
       "       [0.03345196, 0.28866977, 0.36343501, 0.64198102],\n",
       "       [0.74852967, 0.08606404, 0.10232671, 0.86568091],\n",
       "       [0.42570996, 0.55892485, 0.7516009 , 0.3855254 ],\n",
       "       [0.06229575, 0.95342168, 0.89634407, 0.43225468],\n",
       "       [0.56500264, 0.93069069, 0.90221041, 0.178963  ],\n",
       "       [0.84182479, 0.36880305, 0.26415286, 0.04403728],\n",
       "       [0.78829453, 0.94777048, 0.14770364, 0.58350887],\n",
       "       [0.47231189, 0.00532193, 0.91274993, 0.86889732]])"
      ]
     },
     "execution_count": 18,
     "metadata": {},
     "output_type": "execute_result"
    }
   ],
   "source": [
    "data = np.load('data9.npy')\n",
    "data"
   ]
  },
  {
   "cell_type": "markdown",
   "metadata": {},
   "source": [
    "Find and display the *index value* of the largest number in each *row* of data. "
   ]
  },
  {
   "cell_type": "code",
   "execution_count": 19,
   "metadata": {},
   "outputs": [
    {
     "name": "stdout",
     "output_type": "stream",
     "text": [
      "[3 0 3 3 2 1 1 0 1 2]\n"
     ]
    }
   ],
   "source": [
    "print(data.argmax(axis = 1))"
   ]
  },
  {
   "cell_type": "markdown",
   "metadata": {},
   "source": [
    "Create a four-dimensional column vector with random numbers between 0 and 1, sampled from the uniform distribution. Name it $w$."
   ]
  },
  {
   "cell_type": "code",
   "execution_count": 20,
   "metadata": {},
   "outputs": [
    {
     "data": {
      "text/plain": [
       "array([[0.1600615 ],\n",
       "       [0.46102557],\n",
       "       [0.80362284],\n",
       "       [0.45469624]])"
      ]
     },
     "execution_count": 20,
     "metadata": {},
     "output_type": "execute_result"
    }
   ],
   "source": [
    "w = np.random.rand(4)\n",
    "w = w.reshape(4,1)\n",
    "w"
   ]
  },
  {
   "cell_type": "markdown",
   "metadata": {},
   "source": [
    "Calculate the dot products between $w$ and each row of data."
   ]
  },
  {
   "cell_type": "code",
   "execution_count": 21,
   "metadata": {},
   "outputs": [
    {
     "data": {
      "text/plain": [
       "array([[1.20008512],\n",
       "       [0.77071656],\n",
       "       [0.72240955],\n",
       "       [0.63534245],\n",
       "       [1.10511902],\n",
       "       [1.36639007],\n",
       "       [1.32591807],\n",
       "       [0.53707423],\n",
       "       [0.94713935],\n",
       "       [1.20664353]])"
      ]
     },
     "execution_count": 21,
     "metadata": {},
     "output_type": "execute_result"
    }
   ],
   "source": [
    "data.dot(w)"
   ]
  },
  {
   "cell_type": "markdown",
   "metadata": {},
   "source": [
    "Create a numpy array $u = (1, -1, 0)$ and a numpy array $v = (1, 0, 1)$. Calculate and display the cosine of the angle between them."
   ]
  },
  {
   "cell_type": "code",
   "execution_count": 22,
   "metadata": {},
   "outputs": [
    {
     "data": {
      "text/plain": [
       "0.49999999999999994"
      ]
     },
     "execution_count": 22,
     "metadata": {},
     "output_type": "execute_result"
    }
   ],
   "source": [
    "u = np.array([1, -1, 0])\n",
    "v = np.array([1, 0, 1])\n",
    "u.dot(v)/np.linalg.norm(u)/np.linalg.norm(v)"
   ]
  },
  {
   "cell_type": "code",
   "execution_count": null,
   "metadata": {},
   "outputs": [],
   "source": []
  }
 ],
 "metadata": {
  "kernelspec": {
   "display_name": "Python 3 (ipykernel)",
   "language": "python",
   "name": "python3"
  },
  "language_info": {
   "codemirror_mode": {
    "name": "ipython",
    "version": 3
   },
   "file_extension": ".py",
   "mimetype": "text/x-python",
   "name": "python",
   "nbconvert_exporter": "python",
   "pygments_lexer": "ipython3",
   "version": "3.11.5"
  }
 },
 "nbformat": 4,
 "nbformat_minor": 4
}
