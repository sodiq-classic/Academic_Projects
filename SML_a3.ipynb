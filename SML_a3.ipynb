{
 "cells": [
  {
   "cell_type": "markdown",
   "id": "61fbf623",
   "metadata": {},
   "source": [
    "## Question 1 solution"
   ]
  },
  {
   "cell_type": "markdown",
   "id": "ee5d779d",
   "metadata": {},
   "source": [
    "By analysing this used case with the conditions given, this implies that when our model predicts that the electrical mini-substation is performing well while it is not, we will encounter a **false positive** which we need to avoid.\n",
    "\n",
    "Therefore, **false positive** is worse for this used case which we need to minimize. And by minimizing false positive, we need to increase precision by setting a beta value close to 0 which will be suitable for an Fbeta score. We will use a beta value of 0.05 for this problem. "
   ]
  },
  {
   "cell_type": "markdown",
   "id": "e18fda47",
   "metadata": {},
   "source": [
    "## Question 2 solution\n",
    "\n",
    "Load file and split date into training, validation, and test sets."
   ]
  },
  {
   "cell_type": "code",
   "execution_count": 57,
   "id": "affefa6c",
   "metadata": {},
   "outputs": [],
   "source": [
    "import random\n",
    "import turicreate as tc\n",
    "random.seed(0)"
   ]
  },
  {
   "cell_type": "code",
   "execution_count": 58,
   "id": "6446e0e9",
   "metadata": {},
   "outputs": [
    {
     "data": {
      "text/html": [
       "<pre>Finished parsing file /home/classic/venv/SupervisedML/Assignment3/0397198_data.csv</pre>"
      ],
      "text/plain": [
       "Finished parsing file /home/classic/venv/SupervisedML/Assignment3/0397198_data.csv"
      ]
     },
     "metadata": {},
     "output_type": "display_data"
    },
    {
     "name": "stdout",
     "output_type": "stream",
     "text": [
      "------------------------------------------------------\n",
      "Inferred types from first 100 line(s) of file as \n",
      "column_type_hints=[int,float,float,float]\n",
      "If parsing fails due to incorrect types, you can correct"
     ]
    },
    {
     "data": {
      "text/html": [
       "<pre>Parsing completed. Parsed 100 lines in 0.017977 secs.</pre>"
      ],
      "text/plain": [
       "Parsing completed. Parsed 100 lines in 0.017977 secs."
      ]
     },
     "metadata": {},
     "output_type": "display_data"
    },
    {
     "name": "stdout",
     "output_type": "stream",
     "text": [
      "\n",
      "the inferred type list above and pass it to read_csv in\n",
      "the column_type_hints argument\n",
      "------------------------------------------------------\n"
     ]
    },
    {
     "data": {
      "text/html": [
       "<pre>Finished parsing file /home/classic/venv/SupervisedML/Assignment3/0397198_data.csv</pre>"
      ],
      "text/plain": [
       "Finished parsing file /home/classic/venv/SupervisedML/Assignment3/0397198_data.csv"
      ]
     },
     "metadata": {},
     "output_type": "display_data"
    },
    {
     "data": {
      "text/html": [
       "<pre>Parsing completed. Parsed 1000 lines in 0.00539 secs.</pre>"
      ],
      "text/plain": [
       "Parsing completed. Parsed 1000 lines in 0.00539 secs."
      ]
     },
     "metadata": {},
     "output_type": "display_data"
    },
    {
     "data": {
      "text/html": [
       "<div style=\"max-height:1000px;max-width:1500px;overflow:auto;\"><table frame=\"box\" rules=\"cols\">\n",
       "    <tr>\n",
       "        <th style=\"padding-left: 1em; padding-right: 1em; text-align: center\">Condition</th>\n",
       "        <th style=\"padding-left: 1em; padding-right: 1em; text-align: center\">Voltage</th>\n",
       "        <th style=\"padding-left: 1em; padding-right: 1em; text-align: center\">Current</th>\n",
       "        <th style=\"padding-left: 1em; padding-right: 1em; text-align: center\">Temperature</th>\n",
       "    </tr>\n",
       "    <tr>\n",
       "        <td style=\"padding-left: 1em; padding-right: 1em; text-align: center; vertical-align: top\">1</td>\n",
       "        <td style=\"padding-left: 1em; padding-right: 1em; text-align: center; vertical-align: top\">81.41279041006895</td>\n",
       "        <td style=\"padding-left: 1em; padding-right: 1em; text-align: center; vertical-align: top\">487.88071256964497</td>\n",
       "        <td style=\"padding-left: 1em; padding-right: 1em; text-align: center; vertical-align: top\">38.75571639527504</td>\n",
       "    </tr>\n",
       "    <tr>\n",
       "        <td style=\"padding-left: 1em; padding-right: 1em; text-align: center; vertical-align: top\">1</td>\n",
       "        <td style=\"padding-left: 1em; padding-right: 1em; text-align: center; vertical-align: top\">78.77194750939918</td>\n",
       "        <td style=\"padding-left: 1em; padding-right: 1em; text-align: center; vertical-align: top\">491.53038862715465</td>\n",
       "        <td style=\"padding-left: 1em; padding-right: 1em; text-align: center; vertical-align: top\">54.614373673647655</td>\n",
       "    </tr>\n",
       "    <tr>\n",
       "        <td style=\"padding-left: 1em; padding-right: 1em; text-align: center; vertical-align: top\">1</td>\n",
       "        <td style=\"padding-left: 1em; padding-right: 1em; text-align: center; vertical-align: top\">81.04558533958897</td>\n",
       "        <td style=\"padding-left: 1em; padding-right: 1em; text-align: center; vertical-align: top\">488.5644736992426</td>\n",
       "        <td style=\"padding-left: 1em; padding-right: 1em; text-align: center; vertical-align: top\">43.14597383349057</td>\n",
       "    </tr>\n",
       "    <tr>\n",
       "        <td style=\"padding-left: 1em; padding-right: 1em; text-align: center; vertical-align: top\">1</td>\n",
       "        <td style=\"padding-left: 1em; padding-right: 1em; text-align: center; vertical-align: top\">80.26080505341892</td>\n",
       "        <td style=\"padding-left: 1em; padding-right: 1em; text-align: center; vertical-align: top\">490.0072309797693</td>\n",
       "        <td style=\"padding-left: 1em; padding-right: 1em; text-align: center; vertical-align: top\">45.68251018097634</td>\n",
       "    </tr>\n",
       "    <tr>\n",
       "        <td style=\"padding-left: 1em; padding-right: 1em; text-align: center; vertical-align: top\">0</td>\n",
       "        <td style=\"padding-left: 1em; padding-right: 1em; text-align: center; vertical-align: top\">79.02597007921467</td>\n",
       "        <td style=\"padding-left: 1em; padding-right: 1em; text-align: center; vertical-align: top\">488.66305932612033</td>\n",
       "        <td style=\"padding-left: 1em; padding-right: 1em; text-align: center; vertical-align: top\">39.91792414431104</td>\n",
       "    </tr>\n",
       "    <tr>\n",
       "        <td style=\"padding-left: 1em; padding-right: 1em; text-align: center; vertical-align: top\">1</td>\n",
       "        <td style=\"padding-left: 1em; padding-right: 1em; text-align: center; vertical-align: top\">78.08260893290515</td>\n",
       "        <td style=\"padding-left: 1em; padding-right: 1em; text-align: center; vertical-align: top\">485.6496989266094</td>\n",
       "        <td style=\"padding-left: 1em; padding-right: 1em; text-align: center; vertical-align: top\">42.91341806598235</td>\n",
       "    </tr>\n",
       "    <tr>\n",
       "        <td style=\"padding-left: 1em; padding-right: 1em; text-align: center; vertical-align: top\">1</td>\n",
       "        <td style=\"padding-left: 1em; padding-right: 1em; text-align: center; vertical-align: top\">79.68938666725457</td>\n",
       "        <td style=\"padding-left: 1em; padding-right: 1em; text-align: center; vertical-align: top\">488.8009873401819</td>\n",
       "        <td style=\"padding-left: 1em; padding-right: 1em; text-align: center; vertical-align: top\">48.7747618992723</td>\n",
       "    </tr>\n",
       "    <tr>\n",
       "        <td style=\"padding-left: 1em; padding-right: 1em; text-align: center; vertical-align: top\">1</td>\n",
       "        <td style=\"padding-left: 1em; padding-right: 1em; text-align: center; vertical-align: top\">77.94349177287891</td>\n",
       "        <td style=\"padding-left: 1em; padding-right: 1em; text-align: center; vertical-align: top\">485.5885857757599</td>\n",
       "        <td style=\"padding-left: 1em; padding-right: 1em; text-align: center; vertical-align: top\">52.42668469573381</td>\n",
       "    </tr>\n",
       "    <tr>\n",
       "        <td style=\"padding-left: 1em; padding-right: 1em; text-align: center; vertical-align: top\">1</td>\n",
       "        <td style=\"padding-left: 1em; padding-right: 1em; text-align: center; vertical-align: top\">78.49353599367441</td>\n",
       "        <td style=\"padding-left: 1em; padding-right: 1em; text-align: center; vertical-align: top\">486.07878458193966</td>\n",
       "        <td style=\"padding-left: 1em; padding-right: 1em; text-align: center; vertical-align: top\">49.48901945164625</td>\n",
       "    </tr>\n",
       "    <tr>\n",
       "        <td style=\"padding-left: 1em; padding-right: 1em; text-align: center; vertical-align: top\">1</td>\n",
       "        <td style=\"padding-left: 1em; padding-right: 1em; text-align: center; vertical-align: top\">79.79376099483481</td>\n",
       "        <td style=\"padding-left: 1em; padding-right: 1em; text-align: center; vertical-align: top\">489.56493291299273</td>\n",
       "        <td style=\"padding-left: 1em; padding-right: 1em; text-align: center; vertical-align: top\">53.78902045504981</td>\n",
       "    </tr>\n",
       "</table>\n",
       "[1000 rows x 4 columns]<br/>Note: Only the head of the SFrame is printed.<br/>You can use print_rows(num_rows=m, num_columns=n) to print more rows and columns.\n",
       "</div>"
      ],
      "text/plain": [
       "Columns:\n",
       "\tCondition\tint\n",
       "\tVoltage\tfloat\n",
       "\tCurrent\tfloat\n",
       "\tTemperature\tfloat\n",
       "\n",
       "Rows: 1000\n",
       "\n",
       "Data:\n",
       "+-----------+-------------------+--------------------+--------------------+\n",
       "| Condition |      Voltage      |      Current       |    Temperature     |\n",
       "+-----------+-------------------+--------------------+--------------------+\n",
       "|     1     | 81.41279041006895 | 487.88071256964497 | 38.75571639527504  |\n",
       "|     1     | 78.77194750939918 | 491.53038862715465 | 54.614373673647655 |\n",
       "|     1     | 81.04558533958897 | 488.5644736992426  | 43.14597383349057  |\n",
       "|     1     | 80.26080505341892 | 490.0072309797693  | 45.68251018097634  |\n",
       "|     0     | 79.02597007921467 | 488.66305932612033 | 39.91792414431104  |\n",
       "|     1     | 78.08260893290515 | 485.6496989266094  | 42.91341806598235  |\n",
       "|     1     | 79.68938666725457 | 488.8009873401819  |  48.7747618992723  |\n",
       "|     1     | 77.94349177287891 | 485.5885857757599  | 52.42668469573381  |\n",
       "|     1     | 78.49353599367441 | 486.07878458193966 | 49.48901945164625  |\n",
       "|     1     | 79.79376099483481 | 489.56493291299273 | 53.78902045504981  |\n",
       "+-----------+-------------------+--------------------+--------------------+\n",
       "[1000 rows x 4 columns]\n",
       "Note: Only the head of the SFrame is printed.\n",
       "You can use print_rows(num_rows=m, num_columns=n) to print more rows and columns."
      ]
     },
     "execution_count": 58,
     "metadata": {},
     "output_type": "execute_result"
    }
   ],
   "source": [
    "# Load data\n",
    "data = tc.SFrame(\"0397198_data.csv\")\n",
    "data"
   ]
  },
  {
   "cell_type": "code",
   "execution_count": 59,
   "id": "59a38634",
   "metadata": {},
   "outputs": [
    {
     "name": "stdout",
     "output_type": "stream",
     "text": [
      "trianing_set = (797, 4)\n",
      "test_set = (100, 4)\n",
      "validation_set = (103, 4)\n"
     ]
    }
   ],
   "source": [
    "# split the data\n",
    "training_set, test_set = data.random_split(0.8, seed = 0)\n",
    "test_set, validation_set = test_set.random_split(0.5, seed = 0)\n",
    "print(f\"trianing_set = {training_set.shape}\")\n",
    "print(f\"test_set = {test_set.shape}\")\n",
    "print(f\"validation_set = {validation_set.shape}\")"
   ]
  },
  {
   "cell_type": "markdown",
   "id": "d68caaf0",
   "metadata": {},
   "source": [
    "## Question 3 solution"
   ]
  },
  {
   "cell_type": "code",
   "execution_count": 60,
   "id": "3c2029c8",
   "metadata": {},
   "outputs": [
    {
     "name": "stdout",
     "output_type": "stream",
     "text": [
      "PROGRESS: Creating a validation set from 5 percent of training data. This may take a while.\n",
      "          You can set ``validation_set=None`` to disable validation tracking.\n",
      "\n"
     ]
    },
    {
     "data": {
      "text/html": [
       "<pre>Logistic regression:</pre>"
      ],
      "text/plain": [
       "Logistic regression:"
      ]
     },
     "metadata": {},
     "output_type": "display_data"
    },
    {
     "data": {
      "text/html": [
       "<pre>--------------------------------------------------------</pre>"
      ],
      "text/plain": [
       "--------------------------------------------------------"
      ]
     },
     "metadata": {},
     "output_type": "display_data"
    },
    {
     "data": {
      "text/html": [
       "<pre>Number of examples          : 950</pre>"
      ],
      "text/plain": [
       "Number of examples          : 950"
      ]
     },
     "metadata": {},
     "output_type": "display_data"
    },
    {
     "data": {
      "text/html": [
       "<pre>Number of classes           : 2</pre>"
      ],
      "text/plain": [
       "Number of classes           : 2"
      ]
     },
     "metadata": {},
     "output_type": "display_data"
    },
    {
     "data": {
      "text/html": [
       "<pre>Number of feature columns   : 3</pre>"
      ],
      "text/plain": [
       "Number of feature columns   : 3"
      ]
     },
     "metadata": {},
     "output_type": "display_data"
    },
    {
     "data": {
      "text/html": [
       "<pre>Number of unpacked features : 3</pre>"
      ],
      "text/plain": [
       "Number of unpacked features : 3"
      ]
     },
     "metadata": {},
     "output_type": "display_data"
    },
    {
     "data": {
      "text/html": [
       "<pre>Number of coefficients      : 4</pre>"
      ],
      "text/plain": [
       "Number of coefficients      : 4"
      ]
     },
     "metadata": {},
     "output_type": "display_data"
    },
    {
     "data": {
      "text/html": [
       "<pre>Starting Newton Method</pre>"
      ],
      "text/plain": [
       "Starting Newton Method"
      ]
     },
     "metadata": {},
     "output_type": "display_data"
    },
    {
     "data": {
      "text/html": [
       "<pre>--------------------------------------------------------</pre>"
      ],
      "text/plain": [
       "--------------------------------------------------------"
      ]
     },
     "metadata": {},
     "output_type": "display_data"
    },
    {
     "data": {
      "text/html": [
       "<pre>+-----------+----------+--------------+-------------------+---------------------+</pre>"
      ],
      "text/plain": [
       "+-----------+----------+--------------+-------------------+---------------------+"
      ]
     },
     "metadata": {},
     "output_type": "display_data"
    },
    {
     "data": {
      "text/html": [
       "<pre>| Iteration | Passes   | Elapsed Time | Training Accuracy | Validation Accuracy |</pre>"
      ],
      "text/plain": [
       "| Iteration | Passes   | Elapsed Time | Training Accuracy | Validation Accuracy |"
      ]
     },
     "metadata": {},
     "output_type": "display_data"
    },
    {
     "data": {
      "text/html": [
       "<pre>+-----------+----------+--------------+-------------------+---------------------+</pre>"
      ],
      "text/plain": [
       "+-----------+----------+--------------+-------------------+---------------------+"
      ]
     },
     "metadata": {},
     "output_type": "display_data"
    },
    {
     "data": {
      "text/html": [
       "<pre>| 1         | 2        | 0.002559     | 0.905263          | 0.920000            |</pre>"
      ],
      "text/plain": [
       "| 1         | 2        | 0.002559     | 0.905263          | 0.920000            |"
      ]
     },
     "metadata": {},
     "output_type": "display_data"
    },
    {
     "data": {
      "text/html": [
       "<pre>| 2         | 3        | 0.004257     | 0.905263          | 0.920000            |</pre>"
      ],
      "text/plain": [
       "| 2         | 3        | 0.004257     | 0.905263          | 0.920000            |"
      ]
     },
     "metadata": {},
     "output_type": "display_data"
    },
    {
     "data": {
      "text/html": [
       "<pre>| 3         | 4        | 0.005420     | 0.905263          | 0.920000            |</pre>"
      ],
      "text/plain": [
       "| 3         | 4        | 0.005420     | 0.905263          | 0.920000            |"
      ]
     },
     "metadata": {},
     "output_type": "display_data"
    },
    {
     "data": {
      "text/html": [
       "<pre>| 4         | 5        | 0.006471     | 0.905263          | 0.920000            |</pre>"
      ],
      "text/plain": [
       "| 4         | 5        | 0.006471     | 0.905263          | 0.920000            |"
      ]
     },
     "metadata": {},
     "output_type": "display_data"
    },
    {
     "data": {
      "text/html": [
       "<pre>+-----------+----------+--------------+-------------------+---------------------+</pre>"
      ],
      "text/plain": [
       "+-----------+----------+--------------+-------------------+---------------------+"
      ]
     },
     "metadata": {},
     "output_type": "display_data"
    },
    {
     "data": {
      "text/html": [
       "<pre>SUCCESS: Optimal solution found.</pre>"
      ],
      "text/plain": [
       "SUCCESS: Optimal solution found."
      ]
     },
     "metadata": {},
     "output_type": "display_data"
    },
    {
     "data": {
      "text/html": [
       "<pre></pre>"
      ],
      "text/plain": []
     },
     "metadata": {},
     "output_type": "display_data"
    }
   ],
   "source": [
    "perceptron = tc.logistic_classifier.create(data, target='Condition')"
   ]
  },
  {
   "cell_type": "code",
   "execution_count": 61,
   "id": "f530d599",
   "metadata": {},
   "outputs": [
    {
     "data": {
      "text/html": [
       "<div style=\"max-height:1000px;max-width:1500px;overflow:auto;\"><table frame=\"box\" rules=\"cols\">\n",
       "    <tr>\n",
       "        <th style=\"padding-left: 1em; padding-right: 1em; text-align: center\">name</th>\n",
       "        <th style=\"padding-left: 1em; padding-right: 1em; text-align: center\">index</th>\n",
       "        <th style=\"padding-left: 1em; padding-right: 1em; text-align: center\">class</th>\n",
       "        <th style=\"padding-left: 1em; padding-right: 1em; text-align: center\">value</th>\n",
       "        <th style=\"padding-left: 1em; padding-right: 1em; text-align: center\">stderr</th>\n",
       "    </tr>\n",
       "    <tr>\n",
       "        <td style=\"padding-left: 1em; padding-right: 1em; text-align: center; vertical-align: top\">(intercept)</td>\n",
       "        <td style=\"padding-left: 1em; padding-right: 1em; text-align: center; vertical-align: top\">None</td>\n",
       "        <td style=\"padding-left: 1em; padding-right: 1em; text-align: center; vertical-align: top\">1</td>\n",
       "        <td style=\"padding-left: 1em; padding-right: 1em; text-align: center; vertical-align: top\">2.4031939572898007</td>\n",
       "        <td style=\"padding-left: 1em; padding-right: 1em; text-align: center; vertical-align: top\">13.028205136471179</td>\n",
       "    </tr>\n",
       "    <tr>\n",
       "        <td style=\"padding-left: 1em; padding-right: 1em; text-align: center; vertical-align: top\">Voltage</td>\n",
       "        <td style=\"padding-left: 1em; padding-right: 1em; text-align: center; vertical-align: top\">None</td>\n",
       "        <td style=\"padding-left: 1em; padding-right: 1em; text-align: center; vertical-align: top\">1</td>\n",
       "        <td style=\"padding-left: 1em; padding-right: 1em; text-align: center; vertical-align: top\">0.007746460705379167</td>\n",
       "        <td style=\"padding-left: 1em; padding-right: 1em; text-align: center; vertical-align: top\">0.14686740568409518</td>\n",
       "    </tr>\n",
       "    <tr>\n",
       "        <td style=\"padding-left: 1em; padding-right: 1em; text-align: center; vertical-align: top\">Current</td>\n",
       "        <td style=\"padding-left: 1em; padding-right: 1em; text-align: center; vertical-align: top\">None</td>\n",
       "        <td style=\"padding-left: 1em; padding-right: 1em; text-align: center; vertical-align: top\">1</td>\n",
       "        <td style=\"padding-left: 1em; padding-right: 1em; text-align: center; vertical-align: top\">-0.0007365265428067443</td>\n",
       "        <td style=\"padding-left: 1em; padding-right: 1em; text-align: center; vertical-align: top\">0.002625764389351448</td>\n",
       "    </tr>\n",
       "    <tr>\n",
       "        <td style=\"padding-left: 1em; padding-right: 1em; text-align: center; vertical-align: top\">Temperature</td>\n",
       "        <td style=\"padding-left: 1em; padding-right: 1em; text-align: center; vertical-align: top\">None</td>\n",
       "        <td style=\"padding-left: 1em; padding-right: 1em; text-align: center; vertical-align: top\">1</td>\n",
       "        <td style=\"padding-left: 1em; padding-right: 1em; text-align: center; vertical-align: top\">-0.010752798755090925</td>\n",
       "        <td style=\"padding-left: 1em; padding-right: 1em; text-align: center; vertical-align: top\">0.0094129919361256</td>\n",
       "    </tr>\n",
       "</table>\n",
       "[4 rows x 5 columns]<br/>\n",
       "</div>"
      ],
      "text/plain": [
       "Columns:\n",
       "\tname\tstr\n",
       "\tindex\tstr\n",
       "\tclass\tint\n",
       "\tvalue\tfloat\n",
       "\tstderr\tfloat\n",
       "\n",
       "Rows: 4\n",
       "\n",
       "Data:\n",
       "+-------------+-------+-------+------------------------+----------------------+\n",
       "|     name    | index | class |         value          |        stderr        |\n",
       "+-------------+-------+-------+------------------------+----------------------+\n",
       "| (intercept) |  None |   1   |   2.4031939572898007   |  13.028205136471179  |\n",
       "|   Voltage   |  None |   1   |  0.007746460705379167  | 0.14686740568409518  |\n",
       "|   Current   |  None |   1   | -0.0007365265428067443 | 0.002625764389351448 |\n",
       "| Temperature |  None |   1   | -0.010752798755090925  |  0.0094129919361256  |\n",
       "+-------------+-------+-------+------------------------+----------------------+\n",
       "[4 rows x 5 columns]"
      ]
     },
     "execution_count": 61,
     "metadata": {},
     "output_type": "execute_result"
    }
   ],
   "source": [
    "perceptron.coefficients"
   ]
  },
  {
   "cell_type": "markdown",
   "id": "dd86cbc7",
   "metadata": {},
   "source": [
    "### NOTE\n",
    "\n",
    "The function used above has feature rescaling turned on by default, meanwhile the coefficients are given in the original scale."
   ]
  },
  {
   "cell_type": "markdown",
   "id": "9cd2a544",
   "metadata": {},
   "source": [
    "## Question 4 solution"
   ]
  },
  {
   "cell_type": "code",
   "execution_count": 62,
   "id": "0ccee4f8",
   "metadata": {},
   "outputs": [
    {
     "data": {
      "text/html": [
       "<pre>Logistic regression:</pre>"
      ],
      "text/plain": [
       "Logistic regression:"
      ]
     },
     "metadata": {},
     "output_type": "display_data"
    },
    {
     "data": {
      "text/html": [
       "<pre>--------------------------------------------------------</pre>"
      ],
      "text/plain": [
       "--------------------------------------------------------"
      ]
     },
     "metadata": {},
     "output_type": "display_data"
    },
    {
     "data": {
      "text/html": [
       "<pre>Number of examples          : 797</pre>"
      ],
      "text/plain": [
       "Number of examples          : 797"
      ]
     },
     "metadata": {},
     "output_type": "display_data"
    },
    {
     "data": {
      "text/html": [
       "<pre>Number of classes           : 2</pre>"
      ],
      "text/plain": [
       "Number of classes           : 2"
      ]
     },
     "metadata": {},
     "output_type": "display_data"
    },
    {
     "data": {
      "text/html": [
       "<pre>Number of feature columns   : 3</pre>"
      ],
      "text/plain": [
       "Number of feature columns   : 3"
      ]
     },
     "metadata": {},
     "output_type": "display_data"
    },
    {
     "data": {
      "text/html": [
       "<pre>Number of unpacked features : 3</pre>"
      ],
      "text/plain": [
       "Number of unpacked features : 3"
      ]
     },
     "metadata": {},
     "output_type": "display_data"
    },
    {
     "data": {
      "text/html": [
       "<pre>Number of coefficients      : 4</pre>"
      ],
      "text/plain": [
       "Number of coefficients      : 4"
      ]
     },
     "metadata": {},
     "output_type": "display_data"
    },
    {
     "data": {
      "text/html": [
       "<pre>Starting Accelerated Gradient (FISTA)</pre>"
      ],
      "text/plain": [
       "Starting Accelerated Gradient (FISTA)"
      ]
     },
     "metadata": {},
     "output_type": "display_data"
    },
    {
     "data": {
      "text/html": [
       "<pre>--------------------------------------------------------</pre>"
      ],
      "text/plain": [
       "--------------------------------------------------------"
      ]
     },
     "metadata": {},
     "output_type": "display_data"
    },
    {
     "data": {
      "text/html": [
       "<pre>Tuning step size. First iteration could take longer than subsequent iterations.</pre>"
      ],
      "text/plain": [
       "Tuning step size. First iteration could take longer than subsequent iterations."
      ]
     },
     "metadata": {},
     "output_type": "display_data"
    },
    {
     "data": {
      "text/html": [
       "<pre>+-----------+----------+-----------+--------------+-------------------+---------------------+</pre>"
      ],
      "text/plain": [
       "+-----------+----------+-----------+--------------+-------------------+---------------------+"
      ]
     },
     "metadata": {},
     "output_type": "display_data"
    },
    {
     "data": {
      "text/html": [
       "<pre>| Iteration | Passes   | Step size | Elapsed Time | Training Accuracy | Validation Accuracy |</pre>"
      ],
      "text/plain": [
       "| Iteration | Passes   | Step size | Elapsed Time | Training Accuracy | Validation Accuracy |"
      ]
     },
     "metadata": {},
     "output_type": "display_data"
    },
    {
     "data": {
      "text/html": [
       "<pre>+-----------+----------+-----------+--------------+-------------------+---------------------+</pre>"
      ],
      "text/plain": [
       "+-----------+----------+-----------+--------------+-------------------+---------------------+"
      ]
     },
     "metadata": {},
     "output_type": "display_data"
    },
    {
     "data": {
      "text/html": [
       "<pre>| 0         | 1        | 5.000000  | 0.000388     | 0.491844          | 0.495146            |</pre>"
      ],
      "text/plain": [
       "| 0         | 1        | 5.000000  | 0.000388     | 0.491844          | 0.495146            |"
      ]
     },
     "metadata": {},
     "output_type": "display_data"
    },
    {
     "data": {
      "text/html": [
       "<pre>| 1         | 2        | 0.003383  | 0.025713     | 0.905897          | 0.902913            |</pre>"
      ],
      "text/plain": [
       "| 1         | 2        | 0.003383  | 0.025713     | 0.905897          | 0.902913            |"
      ]
     },
     "metadata": {},
     "output_type": "display_data"
    },
    {
     "data": {
      "text/html": [
       "<pre>| 2         | 3        | 0.003383  | 0.029276     | 0.905897          | 0.902913            |</pre>"
      ],
      "text/plain": [
       "| 2         | 3        | 0.003383  | 0.029276     | 0.905897          | 0.902913            |"
      ]
     },
     "metadata": {},
     "output_type": "display_data"
    },
    {
     "data": {
      "text/html": [
       "<pre>| 3         | 4        | 0.003383  | 0.031335     | 0.905897          | 0.902913            |</pre>"
      ],
      "text/plain": [
       "| 3         | 4        | 0.003383  | 0.031335     | 0.905897          | 0.902913            |"
      ]
     },
     "metadata": {},
     "output_type": "display_data"
    },
    {
     "data": {
      "text/html": [
       "<pre>| 4         | 5        | 0.003383  | 0.044728     | 0.905897          | 0.902913            |</pre>"
      ],
      "text/plain": [
       "| 4         | 5        | 0.003383  | 0.044728     | 0.905897          | 0.902913            |"
      ]
     },
     "metadata": {},
     "output_type": "display_data"
    },
    {
     "data": {
      "text/html": [
       "<pre>| 5         | 6        | 0.003383  | 0.046554     | 0.905897          | 0.902913            |</pre>"
      ],
      "text/plain": [
       "| 5         | 6        | 0.003383  | 0.046554     | 0.905897          | 0.902913            |"
      ]
     },
     "metadata": {},
     "output_type": "display_data"
    },
    {
     "data": {
      "text/html": [
       "<pre>| 9         | 10       | 0.003383  | 0.054803     | 0.905897          | 0.902913            |</pre>"
      ],
      "text/plain": [
       "| 9         | 10       | 0.003383  | 0.054803     | 0.905897          | 0.902913            |"
      ]
     },
     "metadata": {},
     "output_type": "display_data"
    },
    {
     "data": {
      "text/html": [
       "<pre>+-----------+----------+-----------+--------------+-------------------+---------------------+</pre>"
      ],
      "text/plain": [
       "+-----------+----------+-----------+--------------+-------------------+---------------------+"
      ]
     },
     "metadata": {},
     "output_type": "display_data"
    },
    {
     "data": {
      "text/html": [
       "<pre>SUCCESS: Optimal solution found.</pre>"
      ],
      "text/plain": [
       "SUCCESS: Optimal solution found."
      ]
     },
     "metadata": {},
     "output_type": "display_data"
    },
    {
     "data": {
      "text/html": [
       "<pre></pre>"
      ],
      "text/plain": []
     },
     "metadata": {},
     "output_type": "display_data"
    }
   ],
   "source": [
    "#create the first perceptron\n",
    "perceptron_1 = tc.logistic_classifier.create(\n",
    "                               training_set, target='Condition', features = ['Voltage', 'Current', 'Temperature'],\n",
    "                               l2_penalty=0.1, l1_penalty=0.02, \n",
    "                               step_size = 5, max_iterations = 120,\n",
    "                               validation_set=validation_set)"
   ]
  },
  {
   "cell_type": "code",
   "execution_count": 63,
   "id": "8aedde88",
   "metadata": {},
   "outputs": [
    {
     "data": {
      "text/html": [
       "<pre>Logistic regression:</pre>"
      ],
      "text/plain": [
       "Logistic regression:"
      ]
     },
     "metadata": {},
     "output_type": "display_data"
    },
    {
     "data": {
      "text/html": [
       "<pre>--------------------------------------------------------</pre>"
      ],
      "text/plain": [
       "--------------------------------------------------------"
      ]
     },
     "metadata": {},
     "output_type": "display_data"
    },
    {
     "data": {
      "text/html": [
       "<pre>Number of examples          : 797</pre>"
      ],
      "text/plain": [
       "Number of examples          : 797"
      ]
     },
     "metadata": {},
     "output_type": "display_data"
    },
    {
     "data": {
      "text/html": [
       "<pre>Number of classes           : 2</pre>"
      ],
      "text/plain": [
       "Number of classes           : 2"
      ]
     },
     "metadata": {},
     "output_type": "display_data"
    },
    {
     "data": {
      "text/html": [
       "<pre>Number of feature columns   : 3</pre>"
      ],
      "text/plain": [
       "Number of feature columns   : 3"
      ]
     },
     "metadata": {},
     "output_type": "display_data"
    },
    {
     "data": {
      "text/html": [
       "<pre>Number of unpacked features : 3</pre>"
      ],
      "text/plain": [
       "Number of unpacked features : 3"
      ]
     },
     "metadata": {},
     "output_type": "display_data"
    },
    {
     "data": {
      "text/html": [
       "<pre>Number of coefficients      : 4</pre>"
      ],
      "text/plain": [
       "Number of coefficients      : 4"
      ]
     },
     "metadata": {},
     "output_type": "display_data"
    },
    {
     "data": {
      "text/html": [
       "<pre>Starting Accelerated Gradient (FISTA)</pre>"
      ],
      "text/plain": [
       "Starting Accelerated Gradient (FISTA)"
      ]
     },
     "metadata": {},
     "output_type": "display_data"
    },
    {
     "data": {
      "text/html": [
       "<pre>--------------------------------------------------------</pre>"
      ],
      "text/plain": [
       "--------------------------------------------------------"
      ]
     },
     "metadata": {},
     "output_type": "display_data"
    },
    {
     "data": {
      "text/html": [
       "<pre>Tuning step size. First iteration could take longer than subsequent iterations.</pre>"
      ],
      "text/plain": [
       "Tuning step size. First iteration could take longer than subsequent iterations."
      ]
     },
     "metadata": {},
     "output_type": "display_data"
    },
    {
     "data": {
      "text/html": [
       "<pre>+-----------+----------+-----------+--------------+-------------------+---------------------+</pre>"
      ],
      "text/plain": [
       "+-----------+----------+-----------+--------------+-------------------+---------------------+"
      ]
     },
     "metadata": {},
     "output_type": "display_data"
    },
    {
     "data": {
      "text/html": [
       "<pre>| Iteration | Passes   | Step size | Elapsed Time | Training Accuracy | Validation Accuracy |</pre>"
      ],
      "text/plain": [
       "| Iteration | Passes   | Step size | Elapsed Time | Training Accuracy | Validation Accuracy |"
      ]
     },
     "metadata": {},
     "output_type": "display_data"
    },
    {
     "data": {
      "text/html": [
       "<pre>+-----------+----------+-----------+--------------+-------------------+---------------------+</pre>"
      ],
      "text/plain": [
       "+-----------+----------+-----------+--------------+-------------------+---------------------+"
      ]
     },
     "metadata": {},
     "output_type": "display_data"
    },
    {
     "data": {
      "text/html": [
       "<pre>| 0         | 1        | 5.000000  | 0.000697     | 0.491844          | 0.495146            |</pre>"
      ],
      "text/plain": [
       "| 0         | 1        | 5.000000  | 0.000697     | 0.491844          | 0.495146            |"
      ]
     },
     "metadata": {},
     "output_type": "display_data"
    },
    {
     "data": {
      "text/html": [
       "<pre>| 1         | 2        | 0.003383  | 0.015850     | 0.905897          | 0.902913            |</pre>"
      ],
      "text/plain": [
       "| 1         | 2        | 0.003383  | 0.015850     | 0.905897          | 0.902913            |"
      ]
     },
     "metadata": {},
     "output_type": "display_data"
    },
    {
     "data": {
      "text/html": [
       "<pre>| 2         | 3        | 0.003383  | 0.017549     | 0.905897          | 0.902913            |</pre>"
      ],
      "text/plain": [
       "| 2         | 3        | 0.003383  | 0.017549     | 0.905897          | 0.902913            |"
      ]
     },
     "metadata": {},
     "output_type": "display_data"
    },
    {
     "data": {
      "text/html": [
       "<pre>| 3         | 4        | 0.003383  | 0.019840     | 0.905897          | 0.902913            |</pre>"
      ],
      "text/plain": [
       "| 3         | 4        | 0.003383  | 0.019840     | 0.905897          | 0.902913            |"
      ]
     },
     "metadata": {},
     "output_type": "display_data"
    },
    {
     "data": {
      "text/html": [
       "<pre>| 4         | 5        | 0.003383  | 0.022039     | 0.905897          | 0.902913            |</pre>"
      ],
      "text/plain": [
       "| 4         | 5        | 0.003383  | 0.022039     | 0.905897          | 0.902913            |"
      ]
     },
     "metadata": {},
     "output_type": "display_data"
    },
    {
     "data": {
      "text/html": [
       "<pre>| 5         | 6        | 0.003383  | 0.024113     | 0.905897          | 0.902913            |</pre>"
      ],
      "text/plain": [
       "| 5         | 6        | 0.003383  | 0.024113     | 0.905897          | 0.902913            |"
      ]
     },
     "metadata": {},
     "output_type": "display_data"
    },
    {
     "data": {
      "text/html": [
       "<pre>| 9         | 10       | 0.003383  | 0.032778     | 0.905897          | 0.902913            |</pre>"
      ],
      "text/plain": [
       "| 9         | 10       | 0.003383  | 0.032778     | 0.905897          | 0.902913            |"
      ]
     },
     "metadata": {},
     "output_type": "display_data"
    },
    {
     "data": {
      "text/html": [
       "<pre>+-----------+----------+-----------+--------------+-------------------+---------------------+</pre>"
      ],
      "text/plain": [
       "+-----------+----------+-----------+--------------+-------------------+---------------------+"
      ]
     },
     "metadata": {},
     "output_type": "display_data"
    },
    {
     "data": {
      "text/html": [
       "<pre>SUCCESS: Optimal solution found.</pre>"
      ],
      "text/plain": [
       "SUCCESS: Optimal solution found."
      ]
     },
     "metadata": {},
     "output_type": "display_data"
    },
    {
     "data": {
      "text/html": [
       "<pre></pre>"
      ],
      "text/plain": []
     },
     "metadata": {},
     "output_type": "display_data"
    }
   ],
   "source": [
    "# #create the second perceptron using 0.05 as the hyperparameter\n",
    "perceptron_2 = tc.logistic_classifier.create(\n",
    "                               training_set, target='Condition', features = ['Voltage', 'Current', 'Temperature'],\n",
    "                               l1_penalty=0.01, l2_penalty=0.05, \n",
    "                               step_size = 5, max_iterations = 120,\n",
    "                               validation_set=validation_set)"
   ]
  },
  {
   "cell_type": "markdown",
   "id": "cbc8ef2f",
   "metadata": {},
   "source": [
    "## Question 5 solution\n",
    "\n",
    "**Display the accuracy for perceptron 1 and 2**"
   ]
  },
  {
   "cell_type": "code",
   "execution_count": 64,
   "id": "31983f9c",
   "metadata": {},
   "outputs": [
    {
     "name": "stdout",
     "output_type": "stream",
     "text": [
      "Training set accuracy for first perceptron:  0.9058971141781681\n",
      "validation set accuracy for first perceptron:  0.9029126213592233\n"
     ]
    }
   ],
   "source": [
    "# perceptron 1 accuracies\n",
    "print(\"Training set accuracy for first perceptron: \", perceptron_1.evaluate(training_set)['accuracy'])\n",
    "print(\"validation set accuracy for first perceptron: \", perceptron_1.evaluate(validation_set)['accuracy'])"
   ]
  },
  {
   "cell_type": "code",
   "execution_count": 65,
   "id": "eb4b23b3",
   "metadata": {},
   "outputs": [
    {
     "name": "stdout",
     "output_type": "stream",
     "text": [
      "Training set accuracy for second perceptron:  0.9058971141781681\n",
      "validation set accuracy for second perceptron:  0.9029126213592233\n"
     ]
    }
   ],
   "source": [
    "# perceptron 2 accuracies\n",
    "print(\"Training set accuracy for second perceptron: \", perceptron_2.evaluate(training_set)['accuracy'])\n",
    "print(\"validation set accuracy for second perceptron: \", perceptron_2.evaluate(validation_set)['accuracy'])"
   ]
  },
  {
   "cell_type": "markdown",
   "id": "2d503019",
   "metadata": {},
   "source": [
    "**Display the confusion matrix for perceptron 1 and 2**"
   ]
  },
  {
   "cell_type": "code",
   "execution_count": 66,
   "id": "6c3c11cc",
   "metadata": {},
   "outputs": [
    {
     "name": "stdout",
     "output_type": "stream",
     "text": [
      "\n",
      "Validation set confusion matrix for first perceptron: \n",
      " +--------------+-----------------+-------+\n",
      "| target_label | predicted_label | count |\n",
      "+--------------+-----------------+-------+\n",
      "|      1       |        1        |   46  |\n",
      "|      0       |        1        |   5   |\n",
      "|      1       |        0        |   5   |\n",
      "|      0       |        0        |   47  |\n",
      "+--------------+-----------------+-------+\n",
      "[4 rows x 3 columns]\n",
      "\n"
     ]
    }
   ],
   "source": [
    "# perceptron 1 confusion matrix\n",
    "print(\"\\nValidation set confusion matrix for first perceptron: \\n\", perceptron_1.evaluate(validation_set)['confusion_matrix'])"
   ]
  },
  {
   "cell_type": "code",
   "execution_count": 67,
   "id": "89a3483d",
   "metadata": {},
   "outputs": [
    {
     "name": "stdout",
     "output_type": "stream",
     "text": [
      "\n",
      "Validation set confusion matrix for second perceptron: \n",
      " +--------------+-----------------+-------+\n",
      "| target_label | predicted_label | count |\n",
      "+--------------+-----------------+-------+\n",
      "|      1       |        1        |   46  |\n",
      "|      0       |        1        |   5   |\n",
      "|      1       |        0        |   5   |\n",
      "|      0       |        0        |   47  |\n",
      "+--------------+-----------------+-------+\n",
      "[4 rows x 3 columns]\n",
      "\n"
     ]
    }
   ],
   "source": [
    "# perceptron 2 confusion matrix\n",
    "print(\"\\nValidation set confusion matrix for second perceptron: \\n\", perceptron_2.evaluate(validation_set)['confusion_matrix'])"
   ]
  },
  {
   "attachments": {},
   "cell_type": "markdown",
   "id": "12f4b99d",
   "metadata": {},
   "source": [
    "**Calculate and display recall, precision, and F_beta score**"
   ]
  },
  {
   "cell_type": "code",
   "execution_count": 68,
   "id": "1f3d0e48",
   "metadata": {},
   "outputs": [
    {
     "name": "stdout",
     "output_type": "stream",
     "text": [
      "validation set recall value for perceptron 1:  0.9019607843137255\n",
      "validation set precision value for perceptron 1:  0.9019607843137255\n",
      "validation set f_beta value for perceptron 1:  0.9019607843137255\n"
     ]
    }
   ],
   "source": [
    "# perceptron 1 recall, precision, and f_beta values(using the value of beta to be 2)\n",
    "recall_1 = perceptron_1.evaluate(validation_set)['recall']\n",
    "precision_1 = perceptron_1.evaluate(validation_set)['precision']\n",
    "beta = 0.05\n",
    "f_beta1 = (1 + beta**2) * (recall_1 * precision_1)/((beta**2 * precision_1) + recall_1)\n",
    "\n",
    "print(\"validation set recall value for perceptron 1: \", recall_1)\n",
    "print(\"validation set precision value for perceptron 1: \", precision_1)\n",
    "print(\"validation set f_beta value for perceptron 1: \", f_beta1)"
   ]
  },
  {
   "cell_type": "code",
   "execution_count": 69,
   "id": "4f49698f",
   "metadata": {},
   "outputs": [
    {
     "name": "stdout",
     "output_type": "stream",
     "text": [
      "validation set recall value for perceptron 2:  0.9019607843137255\n",
      "validation set precision value for perceptron 2:  0.9019607843137255\n",
      "validation set f_beta value for perceptron 2:  0.9019607843137255\n"
     ]
    }
   ],
   "source": [
    "# perceptron 1 recall, precision, and f_beta values(using the value of beta to be 2)\n",
    "recall_2 = perceptron_2.evaluate(validation_set)['recall']\n",
    "precision_2 = perceptron_2.evaluate(validation_set)['precision']\n",
    "beta = 0.05\n",
    "f_beta2 = (1 + beta**2) * (recall_2 * precision_1)/((beta**2 * precision_2) + recall_2)\n",
    "\n",
    "print(\"validation set recall value for perceptron 2: \", recall_2)\n",
    "print(\"validation set precision value for perceptron 2: \", precision_2)\n",
    "print(\"validation set f_beta value for perceptron 2: \", f_beta2)"
   ]
  },
  {
   "cell_type": "markdown",
   "id": "901ce52a",
   "metadata": {},
   "source": [
    "## QUESTION 6 SOLUTION\n",
    "\n",
    "Both models **'perceptron 1 and 2'** have the same output values for accuracy, recall, precision, fbeta score and the confusion matrix for both models are also the same. Therefore, a tie is declared between both models."
   ]
  },
  {
   "cell_type": "markdown",
   "id": "087610e7",
   "metadata": {},
   "source": [
    "## Question 7 solution\n",
    "\n",
    "**Using the test set to calculate and display accuracy, confusion matrix, recall, precision, and f_beta**"
   ]
  },
  {
   "cell_type": "code",
   "execution_count": 70,
   "id": "5e331ae4",
   "metadata": {},
   "outputs": [
    {
     "name": "stdout",
     "output_type": "stream",
     "text": [
      "Test set recall value for perceptron 1:  0.9411764705882353\n",
      "Test set precision value for perceptron 1:  0.8888888888888888\n",
      "Test set f_beta value for perceptron 1:  0.8890120548704447\n",
      "Test set set accuracy for first perceptron:  0.91\n",
      "Test set confusion matrix for first perceptron: \n",
      " +--------------+-----------------+-------+\n",
      "| target_label | predicted_label | count |\n",
      "+--------------+-----------------+-------+\n",
      "|      1       |        1        |   48  |\n",
      "|      0       |        1        |   6   |\n",
      "|      0       |        0        |   43  |\n",
      "|      1       |        0        |   3   |\n",
      "+--------------+-----------------+-------+\n",
      "[4 rows x 3 columns]\n",
      "\n"
     ]
    }
   ],
   "source": [
    "# perceptron 1 accuracy, confusion matrix, recall, precision, and f_beta on test set\n",
    "recall_3 = perceptron_1.evaluate(test_set)['recall']\n",
    "precision_3 = perceptron_1.evaluate(test_set)['precision']\n",
    "beta = 0.05\n",
    "f_beta3 = (1 + beta**2) * (recall_3 * precision_3)/((beta**2 * precision_3) + recall_3)\n",
    "\n",
    "print(\"Test set recall value for perceptron 1: \", recall_3)\n",
    "print(\"Test set precision value for perceptron 1: \", precision_3)\n",
    "print(\"Test set f_beta value for perceptron 1: \", f_beta3)\n",
    "print(\"Test set set accuracy for first perceptron: \", perceptron_1.evaluate(test_set)['accuracy'])\n",
    "print(\"Test set confusion matrix for first perceptron: \\n\", perceptron_1.evaluate(test_set)['confusion_matrix'])"
   ]
  },
  {
   "cell_type": "markdown",
   "id": "1ca5f54b",
   "metadata": {},
   "source": [
    "### Contribution\n",
    "\n",
    "Students names: Sodiq Akinbolaji and Simranpreet Singh.\n",
    "\n",
    "Each student worked on all questions separately, then met in school to compare our solutions.\n",
    "Formatting was done by Sodiq while sharing ideas with Simranpreet during the meeting.\n",
    "\n",
    "Finally, the submission will be made by Sodiq."
   ]
  },
  {
   "cell_type": "code",
   "execution_count": null,
   "id": "0d61baaa",
   "metadata": {},
   "outputs": [],
   "source": []
  }
 ],
 "metadata": {
  "kernelspec": {
   "display_name": "Python 3",
   "language": "python",
   "name": "python3"
  },
  "language_info": {
   "codemirror_mode": {
    "name": "ipython",
    "version": 3
   },
   "file_extension": ".py",
   "mimetype": "text/x-python",
   "name": "python",
   "nbconvert_exporter": "python",
   "pygments_lexer": "ipython3",
   "version": "3.6.9"
  }
 },
 "nbformat": 4,
 "nbformat_minor": 5
}
